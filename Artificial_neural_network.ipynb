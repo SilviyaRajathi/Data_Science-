{
 "cells": [
  {
   "cell_type": "markdown",
   "id": "2ef6138e-e9e7-4934-9ee1-d9243d38a120",
   "metadata": {},
   "source": [
    "# ARTIFICIAL NEURAL NETWORKS"
   ]
  },
  {
   "cell_type": "code",
   "execution_count": 2,
   "id": "b8063c2f-b0bd-428d-a44d-44f0dae7ef47",
   "metadata": {},
   "outputs": [],
   "source": [
    "import pandas as pd\n",
    "import numpy as np\n",
    "import tensorflow as tf\n",
    "from tensorflow import keras\n",
    "from tensorflow.keras.models import Sequential\n",
    "from tensorflow.keras.layers import Dense\n",
    "from sklearn.model_selection import train_test_split\n",
    "from sklearn.preprocessing import LabelEncoder, StandardScaler\n",
    "from sklearn.metrics import accuracy_score, classification_report\n",
    "from scikeras.wrappers import KerasClassifier\n",
    "from sklearn.model_selection import RandomizedSearchCV\n",
    "import warnings\n",
    "warnings.filterwarnings(\"ignore\", category=UserWarning)\n"
   ]
  },
  {
   "cell_type": "markdown",
   "id": "2fa9f7b8-915d-4457-bae3-9cee2e2dc1df",
   "metadata": {},
   "source": [
    "## 1. Data Exploration and Preprocessing"
   ]
  },
  {
   "cell_type": "code",
   "execution_count": 4,
   "id": "7de8f9cf-5862-4361-b3f5-c5c0eb01d273",
   "metadata": {},
   "outputs": [],
   "source": [
    "# Load dataset\n",
    "df = pd.read_csv(\"Alphabets_data.csv\")"
   ]
  },
  {
   "cell_type": "code",
   "execution_count": 5,
   "id": "ea05f129-d76d-43b8-abdc-e371cb4d4644",
   "metadata": {},
   "outputs": [
    {
     "data": {
      "text/html": [
       "<div>\n",
       "<style scoped>\n",
       "    .dataframe tbody tr th:only-of-type {\n",
       "        vertical-align: middle;\n",
       "    }\n",
       "\n",
       "    .dataframe tbody tr th {\n",
       "        vertical-align: top;\n",
       "    }\n",
       "\n",
       "    .dataframe thead th {\n",
       "        text-align: right;\n",
       "    }\n",
       "</style>\n",
       "<table border=\"1\" class=\"dataframe\">\n",
       "  <thead>\n",
       "    <tr style=\"text-align: right;\">\n",
       "      <th></th>\n",
       "      <th>letter</th>\n",
       "      <th>xbox</th>\n",
       "      <th>ybox</th>\n",
       "      <th>width</th>\n",
       "      <th>height</th>\n",
       "      <th>onpix</th>\n",
       "      <th>xbar</th>\n",
       "      <th>ybar</th>\n",
       "      <th>x2bar</th>\n",
       "      <th>y2bar</th>\n",
       "      <th>xybar</th>\n",
       "      <th>x2ybar</th>\n",
       "      <th>xy2bar</th>\n",
       "      <th>xedge</th>\n",
       "      <th>xedgey</th>\n",
       "      <th>yedge</th>\n",
       "      <th>yedgex</th>\n",
       "    </tr>\n",
       "  </thead>\n",
       "  <tbody>\n",
       "    <tr>\n",
       "      <th>0</th>\n",
       "      <td>T</td>\n",
       "      <td>2</td>\n",
       "      <td>8</td>\n",
       "      <td>3</td>\n",
       "      <td>5</td>\n",
       "      <td>1</td>\n",
       "      <td>8</td>\n",
       "      <td>13</td>\n",
       "      <td>0</td>\n",
       "      <td>6</td>\n",
       "      <td>6</td>\n",
       "      <td>10</td>\n",
       "      <td>8</td>\n",
       "      <td>0</td>\n",
       "      <td>8</td>\n",
       "      <td>0</td>\n",
       "      <td>8</td>\n",
       "    </tr>\n",
       "    <tr>\n",
       "      <th>1</th>\n",
       "      <td>I</td>\n",
       "      <td>5</td>\n",
       "      <td>12</td>\n",
       "      <td>3</td>\n",
       "      <td>7</td>\n",
       "      <td>2</td>\n",
       "      <td>10</td>\n",
       "      <td>5</td>\n",
       "      <td>5</td>\n",
       "      <td>4</td>\n",
       "      <td>13</td>\n",
       "      <td>3</td>\n",
       "      <td>9</td>\n",
       "      <td>2</td>\n",
       "      <td>8</td>\n",
       "      <td>4</td>\n",
       "      <td>10</td>\n",
       "    </tr>\n",
       "    <tr>\n",
       "      <th>2</th>\n",
       "      <td>D</td>\n",
       "      <td>4</td>\n",
       "      <td>11</td>\n",
       "      <td>6</td>\n",
       "      <td>8</td>\n",
       "      <td>6</td>\n",
       "      <td>10</td>\n",
       "      <td>6</td>\n",
       "      <td>2</td>\n",
       "      <td>6</td>\n",
       "      <td>10</td>\n",
       "      <td>3</td>\n",
       "      <td>7</td>\n",
       "      <td>3</td>\n",
       "      <td>7</td>\n",
       "      <td>3</td>\n",
       "      <td>9</td>\n",
       "    </tr>\n",
       "    <tr>\n",
       "      <th>3</th>\n",
       "      <td>N</td>\n",
       "      <td>7</td>\n",
       "      <td>11</td>\n",
       "      <td>6</td>\n",
       "      <td>6</td>\n",
       "      <td>3</td>\n",
       "      <td>5</td>\n",
       "      <td>9</td>\n",
       "      <td>4</td>\n",
       "      <td>6</td>\n",
       "      <td>4</td>\n",
       "      <td>4</td>\n",
       "      <td>10</td>\n",
       "      <td>6</td>\n",
       "      <td>10</td>\n",
       "      <td>2</td>\n",
       "      <td>8</td>\n",
       "    </tr>\n",
       "    <tr>\n",
       "      <th>4</th>\n",
       "      <td>G</td>\n",
       "      <td>2</td>\n",
       "      <td>1</td>\n",
       "      <td>3</td>\n",
       "      <td>1</td>\n",
       "      <td>1</td>\n",
       "      <td>8</td>\n",
       "      <td>6</td>\n",
       "      <td>6</td>\n",
       "      <td>6</td>\n",
       "      <td>6</td>\n",
       "      <td>5</td>\n",
       "      <td>9</td>\n",
       "      <td>1</td>\n",
       "      <td>7</td>\n",
       "      <td>5</td>\n",
       "      <td>10</td>\n",
       "    </tr>\n",
       "  </tbody>\n",
       "</table>\n",
       "</div>"
      ],
      "text/plain": [
       "  letter  xbox  ybox  width  height  onpix  xbar  ybar  x2bar  y2bar  xybar  \\\n",
       "0      T     2     8      3       5      1     8    13      0      6      6   \n",
       "1      I     5    12      3       7      2    10     5      5      4     13   \n",
       "2      D     4    11      6       8      6    10     6      2      6     10   \n",
       "3      N     7    11      6       6      3     5     9      4      6      4   \n",
       "4      G     2     1      3       1      1     8     6      6      6      6   \n",
       "\n",
       "   x2ybar  xy2bar  xedge  xedgey  yedge  yedgex  \n",
       "0      10       8      0       8      0       8  \n",
       "1       3       9      2       8      4      10  \n",
       "2       3       7      3       7      3       9  \n",
       "3       4      10      6      10      2       8  \n",
       "4       5       9      1       7      5      10  "
      ]
     },
     "execution_count": 5,
     "metadata": {},
     "output_type": "execute_result"
    }
   ],
   "source": [
    "df.head()"
   ]
  },
  {
   "cell_type": "code",
   "execution_count": 6,
   "id": "70666b39-be53-448a-9788-f46fad2b663a",
   "metadata": {},
   "outputs": [],
   "source": [
    "# Separate features and labels\n",
    "X = df.iloc[:, 1:].values  # Features\n",
    "y = df.iloc[:, 0].values   # Labels"
   ]
  },
  {
   "cell_type": "code",
   "execution_count": 7,
   "id": "8e3b2015-63a3-4d4e-8159-f117756fc2c7",
   "metadata": {},
   "outputs": [
    {
     "data": {
      "text/plain": [
       "array([[ 2,  8,  3, ...,  8,  0,  8],\n",
       "       [ 5, 12,  3, ...,  8,  4, 10],\n",
       "       [ 4, 11,  6, ...,  7,  3,  9],\n",
       "       ...,\n",
       "       [ 6,  9,  6, ..., 12,  2,  4],\n",
       "       [ 2,  3,  4, ...,  9,  5,  8],\n",
       "       [ 4,  9,  6, ...,  7,  2,  8]], dtype=int64)"
      ]
     },
     "execution_count": 7,
     "metadata": {},
     "output_type": "execute_result"
    }
   ],
   "source": [
    "X"
   ]
  },
  {
   "cell_type": "code",
   "execution_count": 8,
   "id": "54555e5e-3eda-4994-b570-7e76615019f7",
   "metadata": {},
   "outputs": [
    {
     "data": {
      "text/plain": [
       "array(['T', 'I', 'D', ..., 'T', 'S', 'A'], dtype=object)"
      ]
     },
     "execution_count": 8,
     "metadata": {},
     "output_type": "execute_result"
    }
   ],
   "source": [
    "y"
   ]
  },
  {
   "cell_type": "code",
   "execution_count": 9,
   "id": "eb912b35-34fe-4066-a72d-8e50ef7a226f",
   "metadata": {},
   "outputs": [],
   "source": [
    "# Encode labels\n",
    "label_encoder = LabelEncoder()\n",
    "y = label_encoder.fit_transform(y)"
   ]
  },
  {
   "cell_type": "code",
   "execution_count": 10,
   "id": "40bbb215-067f-4d76-b3b2-3924d4d8d5bc",
   "metadata": {},
   "outputs": [
    {
     "data": {
      "text/plain": [
       "array([19,  8,  3, ..., 19, 18,  0])"
      ]
     },
     "execution_count": 10,
     "metadata": {},
     "output_type": "execute_result"
    }
   ],
   "source": [
    "y"
   ]
  },
  {
   "cell_type": "code",
   "execution_count": 11,
   "id": "a6ba354e-f4bc-41ed-ab3b-f9a472c233a4",
   "metadata": {},
   "outputs": [],
   "source": [
    "# Normalize features\n",
    "scaler = StandardScaler()\n",
    "X = scaler.fit_transform(X)"
   ]
  },
  {
   "cell_type": "code",
   "execution_count": 12,
   "id": "4b6fecc2-bb7a-4e0d-bdf8-ccab452524c8",
   "metadata": {},
   "outputs": [
    {
     "data": {
      "text/plain": [
       "array([[-1.0576983 ,  0.29187713, -1.05327668, ..., -0.21908163,\n",
       "        -1.4381527 ,  0.12291107],\n",
       "       [ 0.51038497,  1.5023577 , -1.05327668, ..., -0.21908163,\n",
       "         0.12008142,  1.35944092],\n",
       "       [-0.01230945,  1.19973756,  0.43590966, ..., -0.8656262 ,\n",
       "        -0.26947711,  0.74117599],\n",
       "       ...,\n",
       "       [ 1.03307939,  0.59449727,  0.43590966, ...,  2.36709667,\n",
       "        -0.65903564, -2.35014863],\n",
       "       [-1.0576983 , -1.22122359, -0.55688123, ...,  0.42746295,\n",
       "         0.50963994,  0.12291107],\n",
       "       [-0.01230945,  0.59449727,  0.43590966, ..., -0.8656262 ,\n",
       "        -0.65903564,  0.12291107]])"
      ]
     },
     "execution_count": 12,
     "metadata": {},
     "output_type": "execute_result"
    }
   ],
   "source": [
    "X"
   ]
  },
  {
   "cell_type": "markdown",
   "id": "ee371c8c-78a1-4de3-bcd0-d04f638956c2",
   "metadata": {},
   "source": [
    "## 2. Model Implementation"
   ]
  },
  {
   "cell_type": "code",
   "execution_count": 14,
   "id": "521f63c3-55bb-438d-9148-582e5729a3f2",
   "metadata": {},
   "outputs": [],
   "source": [
    "# Split dataset\n",
    "X_train, X_test, y_train, y_test = train_test_split(X, y, test_size=0.2, random_state=42, stratify=y)\n"
   ]
  },
  {
   "cell_type": "code",
   "execution_count": 15,
   "id": "13a93431-9c39-459c-8f91-25d069b0e855",
   "metadata": {},
   "outputs": [],
   "source": [
    "def create_model():\n",
    "    model = Sequential([\n",
    "        Dense(32, activation='relu', input_shape=(X_train.shape[1],)),  # Input layer\n",
    "        Dense(32, activation='relu'),  # Hidden layer\n",
    "        Dense(len(np.unique(y_train)), activation='softmax')  # Output layer\n",
    "    ])\n",
    "    model.compile(optimizer='adam', loss='sparse_categorical_crossentropy', metrics=['accuracy'])\n",
    "    return model\n",
    "model = create_model()"
   ]
  },
  {
   "cell_type": "code",
   "execution_count": 16,
   "id": "ae8bb7a0-0547-4172-8ed3-718fae68e3f5",
   "metadata": {},
   "outputs": [
    {
     "name": "stdout",
     "output_type": "stream",
     "text": [
      "Epoch 1/30\n",
      "\u001b[1m500/500\u001b[0m \u001b[32m━━━━━━━━━━━━━━━━━━━━\u001b[0m\u001b[37m\u001b[0m \u001b[1m3s\u001b[0m 3ms/step - accuracy: 0.2604 - loss: 2.6782 - val_accuracy: 0.6658 - val_loss: 1.1868\n",
      "Epoch 2/30\n",
      "\u001b[1m500/500\u001b[0m \u001b[32m━━━━━━━━━━━━━━━━━━━━\u001b[0m\u001b[37m\u001b[0m \u001b[1m1s\u001b[0m 2ms/step - accuracy: 0.6891 - loss: 1.0826 - val_accuracy: 0.7345 - val_loss: 0.8965\n",
      "Epoch 3/30\n",
      "\u001b[1m500/500\u001b[0m \u001b[32m━━━━━━━━━━━━━━━━━━━━\u001b[0m\u001b[37m\u001b[0m \u001b[1m1s\u001b[0m 3ms/step - accuracy: 0.7409 - loss: 0.8736 - val_accuracy: 0.7753 - val_loss: 0.7611\n",
      "Epoch 4/30\n",
      "\u001b[1m500/500\u001b[0m \u001b[32m━━━━━━━━━━━━━━━━━━━━\u001b[0m\u001b[37m\u001b[0m \u001b[1m1s\u001b[0m 3ms/step - accuracy: 0.7852 - loss: 0.7288 - val_accuracy: 0.8037 - val_loss: 0.6783\n",
      "Epoch 5/30\n",
      "\u001b[1m500/500\u001b[0m \u001b[32m━━━━━━━━━━━━━━━━━━━━\u001b[0m\u001b[37m\u001b[0m \u001b[1m1s\u001b[0m 3ms/step - accuracy: 0.8100 - loss: 0.6642 - val_accuracy: 0.8167 - val_loss: 0.6300\n",
      "Epoch 6/30\n",
      "\u001b[1m500/500\u001b[0m \u001b[32m━━━━━━━━━━━━━━━━━━━━\u001b[0m\u001b[37m\u001b[0m \u001b[1m1s\u001b[0m 2ms/step - accuracy: 0.8189 - loss: 0.6133 - val_accuracy: 0.8265 - val_loss: 0.5821\n",
      "Epoch 7/30\n",
      "\u001b[1m500/500\u001b[0m \u001b[32m━━━━━━━━━━━━━━━━━━━━\u001b[0m\u001b[37m\u001b[0m \u001b[1m1s\u001b[0m 2ms/step - accuracy: 0.8358 - loss: 0.5625 - val_accuracy: 0.8367 - val_loss: 0.5385\n",
      "Epoch 8/30\n",
      "\u001b[1m500/500\u001b[0m \u001b[32m━━━━━━━━━━━━━━━━━━━━\u001b[0m\u001b[37m\u001b[0m \u001b[1m1s\u001b[0m 3ms/step - accuracy: 0.8482 - loss: 0.5048 - val_accuracy: 0.8475 - val_loss: 0.5097\n",
      "Epoch 9/30\n",
      "\u001b[1m500/500\u001b[0m \u001b[32m━━━━━━━━━━━━━━━━━━━━\u001b[0m\u001b[37m\u001b[0m \u001b[1m1s\u001b[0m 2ms/step - accuracy: 0.8591 - loss: 0.4687 - val_accuracy: 0.8555 - val_loss: 0.4812\n",
      "Epoch 10/30\n",
      "\u001b[1m500/500\u001b[0m \u001b[32m━━━━━━━━━━━━━━━━━━━━\u001b[0m\u001b[37m\u001b[0m \u001b[1m1s\u001b[0m 2ms/step - accuracy: 0.8629 - loss: 0.4577 - val_accuracy: 0.8620 - val_loss: 0.4578\n",
      "Epoch 11/30\n",
      "\u001b[1m500/500\u001b[0m \u001b[32m━━━━━━━━━━━━━━━━━━━━\u001b[0m\u001b[37m\u001b[0m \u001b[1m1s\u001b[0m 3ms/step - accuracy: 0.8757 - loss: 0.4138 - val_accuracy: 0.8687 - val_loss: 0.4392\n",
      "Epoch 12/30\n",
      "\u001b[1m500/500\u001b[0m \u001b[32m━━━━━━━━━━━━━━━━━━━━\u001b[0m\u001b[37m\u001b[0m \u001b[1m1s\u001b[0m 2ms/step - accuracy: 0.8756 - loss: 0.4072 - val_accuracy: 0.8733 - val_loss: 0.4277\n",
      "Epoch 13/30\n",
      "\u001b[1m500/500\u001b[0m \u001b[32m━━━━━━━━━━━━━━━━━━━━\u001b[0m\u001b[37m\u001b[0m \u001b[1m1s\u001b[0m 2ms/step - accuracy: 0.8808 - loss: 0.3913 - val_accuracy: 0.8758 - val_loss: 0.4097\n",
      "Epoch 14/30\n",
      "\u001b[1m500/500\u001b[0m \u001b[32m━━━━━━━━━━━━━━━━━━━━\u001b[0m\u001b[37m\u001b[0m \u001b[1m1s\u001b[0m 3ms/step - accuracy: 0.8837 - loss: 0.3726 - val_accuracy: 0.8755 - val_loss: 0.3961\n",
      "Epoch 15/30\n",
      "\u001b[1m500/500\u001b[0m \u001b[32m━━━━━━━━━━━━━━━━━━━━\u001b[0m\u001b[37m\u001b[0m \u001b[1m1s\u001b[0m 2ms/step - accuracy: 0.8961 - loss: 0.3483 - val_accuracy: 0.8840 - val_loss: 0.3818\n",
      "Epoch 16/30\n",
      "\u001b[1m500/500\u001b[0m \u001b[32m━━━━━━━━━━━━━━━━━━━━\u001b[0m\u001b[37m\u001b[0m \u001b[1m1s\u001b[0m 2ms/step - accuracy: 0.8996 - loss: 0.3295 - val_accuracy: 0.8827 - val_loss: 0.3707\n",
      "Epoch 17/30\n",
      "\u001b[1m500/500\u001b[0m \u001b[32m━━━━━━━━━━━━━━━━━━━━\u001b[0m\u001b[37m\u001b[0m \u001b[1m1s\u001b[0m 2ms/step - accuracy: 0.8978 - loss: 0.3253 - val_accuracy: 0.8873 - val_loss: 0.3583\n",
      "Epoch 18/30\n",
      "\u001b[1m500/500\u001b[0m \u001b[32m━━━━━━━━━━━━━━━━━━━━\u001b[0m\u001b[37m\u001b[0m \u001b[1m1s\u001b[0m 3ms/step - accuracy: 0.9089 - loss: 0.2959 - val_accuracy: 0.8880 - val_loss: 0.3556\n",
      "Epoch 19/30\n",
      "\u001b[1m500/500\u001b[0m \u001b[32m━━━━━━━━━━━━━━━━━━━━\u001b[0m\u001b[37m\u001b[0m \u001b[1m1s\u001b[0m 2ms/step - accuracy: 0.9038 - loss: 0.3029 - val_accuracy: 0.8945 - val_loss: 0.3443\n",
      "Epoch 20/30\n",
      "\u001b[1m500/500\u001b[0m \u001b[32m━━━━━━━━━━━━━━━━━━━━\u001b[0m\u001b[37m\u001b[0m \u001b[1m2s\u001b[0m 3ms/step - accuracy: 0.9082 - loss: 0.2913 - val_accuracy: 0.8955 - val_loss: 0.3350\n",
      "Epoch 21/30\n",
      "\u001b[1m500/500\u001b[0m \u001b[32m━━━━━━━━━━━━━━━━━━━━\u001b[0m\u001b[37m\u001b[0m \u001b[1m2s\u001b[0m 3ms/step - accuracy: 0.9143 - loss: 0.2802 - val_accuracy: 0.8988 - val_loss: 0.3289\n",
      "Epoch 22/30\n",
      "\u001b[1m500/500\u001b[0m \u001b[32m━━━━━━━━━━━━━━━━━━━━\u001b[0m\u001b[37m\u001b[0m \u001b[1m1s\u001b[0m 3ms/step - accuracy: 0.9134 - loss: 0.2833 - val_accuracy: 0.8935 - val_loss: 0.3296\n",
      "Epoch 23/30\n",
      "\u001b[1m500/500\u001b[0m \u001b[32m━━━━━━━━━━━━━━━━━━━━\u001b[0m\u001b[37m\u001b[0m \u001b[1m1s\u001b[0m 3ms/step - accuracy: 0.9135 - loss: 0.2712 - val_accuracy: 0.9013 - val_loss: 0.3175\n",
      "Epoch 24/30\n",
      "\u001b[1m500/500\u001b[0m \u001b[32m━━━━━━━━━━━━━━━━━━━━\u001b[0m\u001b[37m\u001b[0m \u001b[1m1s\u001b[0m 2ms/step - accuracy: 0.9157 - loss: 0.2689 - val_accuracy: 0.9045 - val_loss: 0.3022\n",
      "Epoch 25/30\n",
      "\u001b[1m500/500\u001b[0m \u001b[32m━━━━━━━━━━━━━━━━━━━━\u001b[0m\u001b[37m\u001b[0m \u001b[1m1s\u001b[0m 2ms/step - accuracy: 0.9211 - loss: 0.2629 - val_accuracy: 0.9053 - val_loss: 0.3013\n",
      "Epoch 26/30\n",
      "\u001b[1m500/500\u001b[0m \u001b[32m━━━━━━━━━━━━━━━━━━━━\u001b[0m\u001b[37m\u001b[0m \u001b[1m1s\u001b[0m 3ms/step - accuracy: 0.9212 - loss: 0.2555 - val_accuracy: 0.9050 - val_loss: 0.3033\n",
      "Epoch 27/30\n",
      "\u001b[1m500/500\u001b[0m \u001b[32m━━━━━━━━━━━━━━━━━━━━\u001b[0m\u001b[37m\u001b[0m \u001b[1m1s\u001b[0m 2ms/step - accuracy: 0.9238 - loss: 0.2509 - val_accuracy: 0.9097 - val_loss: 0.2975\n",
      "Epoch 28/30\n",
      "\u001b[1m500/500\u001b[0m \u001b[32m━━━━━━━━━━━━━━━━━━━━\u001b[0m\u001b[37m\u001b[0m \u001b[1m1s\u001b[0m 2ms/step - accuracy: 0.9222 - loss: 0.2418 - val_accuracy: 0.9047 - val_loss: 0.2923\n",
      "Epoch 29/30\n",
      "\u001b[1m500/500\u001b[0m \u001b[32m━━━━━━━━━━━━━━━━━━━━\u001b[0m\u001b[37m\u001b[0m \u001b[1m2s\u001b[0m 3ms/step - accuracy: 0.9239 - loss: 0.2439 - val_accuracy: 0.9150 - val_loss: 0.2853\n",
      "Epoch 30/30\n",
      "\u001b[1m500/500\u001b[0m \u001b[32m━━━━━━━━━━━━━━━━━━━━\u001b[0m\u001b[37m\u001b[0m \u001b[1m1s\u001b[0m 2ms/step - accuracy: 0.9226 - loss: 0.2443 - val_accuracy: 0.9095 - val_loss: 0.2855\n"
     ]
    }
   ],
   "source": [
    "history = model.fit(X_train, y_train, epochs=30, batch_size=32, validation_data=(X_test, y_test), verbose=1)"
   ]
  },
  {
   "cell_type": "code",
   "execution_count": 17,
   "id": "56933f2b-ec6f-4f01-973d-cb712ce00493",
   "metadata": {},
   "outputs": [
    {
     "name": "stdout",
     "output_type": "stream",
     "text": [
      "\u001b[1m125/125\u001b[0m \u001b[32m━━━━━━━━━━━━━━━━━━━━\u001b[0m\u001b[37m\u001b[0m \u001b[1m0s\u001b[0m 1ms/step\n"
     ]
    }
   ],
   "source": [
    "y_pred = np.argmax(model.predict(X_test), axis=1)\n",
    "accuracy = accuracy_score(y_test, y_pred)"
   ]
  },
  {
   "cell_type": "code",
   "execution_count": 18,
   "id": "7b9891c4-fe11-43dc-bddd-93c782d52ecc",
   "metadata": {},
   "outputs": [
    {
     "name": "stdout",
     "output_type": "stream",
     "text": [
      "Model Accuracy: 0.9095\n",
      "              precision    recall  f1-score   support\n",
      "\n",
      "           A       0.97      0.95      0.96       158\n",
      "           B       0.85      0.86      0.85       153\n",
      "           C       0.92      0.95      0.93       147\n",
      "           D       0.89      0.95      0.92       161\n",
      "           E       0.92      0.84      0.88       154\n",
      "           F       0.89      0.86      0.88       155\n",
      "           G       0.89      0.90      0.89       155\n",
      "           H       0.86      0.84      0.85       147\n",
      "           I       0.95      0.86      0.90       151\n",
      "           J       0.94      0.91      0.93       149\n",
      "           K       0.82      0.93      0.87       148\n",
      "           L       0.95      0.93      0.94       152\n",
      "           M       0.96      0.96      0.96       158\n",
      "           N       0.93      0.93      0.93       157\n",
      "           O       0.93      0.91      0.92       150\n",
      "           P       0.91      0.91      0.91       161\n",
      "           Q       0.94      0.94      0.94       157\n",
      "           R       0.87      0.86      0.86       151\n",
      "           S       0.87      0.87      0.87       150\n",
      "           T       0.88      0.93      0.91       159\n",
      "           U       0.95      0.97      0.96       163\n",
      "           V       0.95      0.90      0.92       153\n",
      "           W       0.97      0.96      0.96       150\n",
      "           X       0.82      0.87      0.84       157\n",
      "           Y       0.92      0.92      0.92       157\n",
      "           Z       0.93      0.93      0.93       147\n",
      "\n",
      "    accuracy                           0.91      4000\n",
      "   macro avg       0.91      0.91      0.91      4000\n",
      "weighted avg       0.91      0.91      0.91      4000\n",
      "\n"
     ]
    }
   ],
   "source": [
    "print(f\"Model Accuracy: {accuracy:.4f}\")\n",
    "print(classification_report(y_test, y_pred, target_names=label_encoder.classes_))"
   ]
  },
  {
   "cell_type": "markdown",
   "id": "1741dc41-2b79-4777-bb07-c518989fe473",
   "metadata": {},
   "source": [
    "## 3. Hyperparameter Tuning"
   ]
  },
  {
   "cell_type": "code",
   "execution_count": 20,
   "id": "aab8af01-c9c7-48fa-be54-dc326f2fd642",
   "metadata": {},
   "outputs": [],
   "source": [
    "def create_model(neurons=32, optimizer='adam', activation='relu'):\n",
    "    model = Sequential([\n",
    "        Dense(neurons, activation=activation, input_shape=(X_train.shape[1],)),\n",
    "        Dense(32, activation=activation),\n",
    "        Dense(len(np.unique(y_train)), activation='softmax')\n",
    "    ])\n",
    "    model.compile(optimizer=optimizer, loss='sparse_categorical_crossentropy', metrics=['accuracy'])\n",
    "    return model\n",
    "\n",
    "# Wrap the function correctly\n",
    "model_wrapper = KerasClassifier(model=create_model, verbose=0)"
   ]
  },
  {
   "cell_type": "code",
   "execution_count": 21,
   "id": "dd0fa956-3e5b-4f3f-b824-dff3d524ec56",
   "metadata": {},
   "outputs": [],
   "source": [
    "param_dist = {\n",
    "    'model__optimizer': ['adam', 'sgd'],\n",
    "    'model__activation': ['relu', 'tanh'],\n",
    "    'batch_size': [16, 32],\n",
    "    'epochs': [20, 30],\n",
    "    'model__neurons': [16, 32, 64]  # Correct way to specify neurons\n",
    "}"
   ]
  },
  {
   "cell_type": "code",
   "execution_count": 22,
   "id": "aaa7fa1c-5234-4ef2-a88b-6d75993d0c2a",
   "metadata": {},
   "outputs": [],
   "source": [
    "random_search = RandomizedSearchCV(estimator=model_wrapper, param_distributions=param_dist, cv=3, n_iter=10, n_jobs=-1, random_state=42)\n",
    "random_search_result = random_search.fit(X_train, y_train)\n"
   ]
  },
  {
   "cell_type": "code",
   "execution_count": 23,
   "id": "a6028da5-4387-458b-8bad-f8c9df26422c",
   "metadata": {},
   "outputs": [
    {
     "name": "stdout",
     "output_type": "stream",
     "text": [
      "Best Hyperparameters: {'model__optimizer': 'adam', 'model__neurons': 64, 'model__activation': 'relu', 'epochs': 30, 'batch_size': 32}\n"
     ]
    }
   ],
   "source": [
    "# Best hyperparameters\n",
    "print(\"Best Hyperparameters:\", random_search_result.best_params_)"
   ]
  },
  {
   "cell_type": "code",
   "execution_count": 24,
   "id": "43805eb4-38a8-4c4c-8047-7cfe1f73e15d",
   "metadata": {},
   "outputs": [],
   "source": [
    "best_model = random_search_result.best_estimator_\n",
    "y_pred_tuned = (best_model.predict(X_test))"
   ]
  },
  {
   "cell_type": "code",
   "execution_count": 25,
   "id": "adb16e84-2d19-4d91-99fe-389230af993b",
   "metadata": {},
   "outputs": [
    {
     "name": "stdout",
     "output_type": "stream",
     "text": [
      "Tuned Model Accuracy: 0.9337\n",
      "              precision    recall  f1-score   support\n",
      "\n",
      "           A       0.96      0.97      0.97       158\n",
      "           B       0.86      0.91      0.88       153\n",
      "           C       0.96      0.95      0.95       147\n",
      "           D       0.94      0.94      0.94       161\n",
      "           E       0.91      0.94      0.92       154\n",
      "           F       0.92      0.89      0.90       155\n",
      "           G       0.90      0.92      0.91       155\n",
      "           H       0.90      0.88      0.89       147\n",
      "           I       0.95      0.89      0.92       151\n",
      "           J       0.93      0.93      0.93       149\n",
      "           K       0.87      0.94      0.90       148\n",
      "           L       0.96      0.94      0.95       152\n",
      "           M       0.97      0.96      0.97       158\n",
      "           N       0.95      0.93      0.94       157\n",
      "           O       0.92      0.91      0.92       150\n",
      "           P       0.95      0.94      0.95       161\n",
      "           Q       0.96      0.99      0.97       157\n",
      "           R       0.89      0.83      0.86       151\n",
      "           S       0.94      0.89      0.92       150\n",
      "           T       0.92      0.96      0.94       159\n",
      "           U       0.98      0.98      0.98       163\n",
      "           V       0.93      0.93      0.93       153\n",
      "           W       0.96      1.00      0.98       150\n",
      "           X       0.93      0.91      0.92       157\n",
      "           Y       0.95      0.96      0.95       157\n",
      "           Z       0.98      0.95      0.96       147\n",
      "\n",
      "    accuracy                           0.93      4000\n",
      "   macro avg       0.93      0.93      0.93      4000\n",
      "weighted avg       0.93      0.93      0.93      4000\n",
      "\n"
     ]
    }
   ],
   "source": [
    "accuracy_tuned = accuracy_score(y_test, y_pred_tuned)\n",
    "print(f\"Tuned Model Accuracy: {accuracy_tuned:.4f}\")\n",
    "print(classification_report(y_test, y_pred_tuned, target_names=label_encoder.classes_))"
   ]
  },
  {
   "cell_type": "markdown",
   "id": "a6a2624b-e5f8-48bc-82d3-4e2f2d6ad57a",
   "metadata": {},
   "source": [
    "## 4. Evaluation"
   ]
  },
  {
   "cell_type": "code",
   "execution_count": 27,
   "id": "8f054c14-a6d5-4554-ae60-9d0bbde0da22",
   "metadata": {},
   "outputs": [
    {
     "name": "stdout",
     "output_type": "stream",
     "text": [
      "Model Accuracy: 0.9095\n",
      "              precision    recall  f1-score   support\n",
      "\n",
      "           A       0.97      0.95      0.96       158\n",
      "           B       0.85      0.86      0.85       153\n",
      "           C       0.92      0.95      0.93       147\n",
      "           D       0.89      0.95      0.92       161\n",
      "           E       0.92      0.84      0.88       154\n",
      "           F       0.89      0.86      0.88       155\n",
      "           G       0.89      0.90      0.89       155\n",
      "           H       0.86      0.84      0.85       147\n",
      "           I       0.95      0.86      0.90       151\n",
      "           J       0.94      0.91      0.93       149\n",
      "           K       0.82      0.93      0.87       148\n",
      "           L       0.95      0.93      0.94       152\n",
      "           M       0.96      0.96      0.96       158\n",
      "           N       0.93      0.93      0.93       157\n",
      "           O       0.93      0.91      0.92       150\n",
      "           P       0.91      0.91      0.91       161\n",
      "           Q       0.94      0.94      0.94       157\n",
      "           R       0.87      0.86      0.86       151\n",
      "           S       0.87      0.87      0.87       150\n",
      "           T       0.88      0.93      0.91       159\n",
      "           U       0.95      0.97      0.96       163\n",
      "           V       0.95      0.90      0.92       153\n",
      "           W       0.97      0.96      0.96       150\n",
      "           X       0.82      0.87      0.84       157\n",
      "           Y       0.92      0.92      0.92       157\n",
      "           Z       0.93      0.93      0.93       147\n",
      "\n",
      "    accuracy                           0.91      4000\n",
      "   macro avg       0.91      0.91      0.91      4000\n",
      "weighted avg       0.91      0.91      0.91      4000\n",
      "\n"
     ]
    }
   ],
   "source": [
    "print(f\"Model Accuracy: {accuracy:.4f}\")\n",
    "print(classification_report(y_test, y_pred, target_names=label_encoder.classes_))"
   ]
  },
  {
   "cell_type": "code",
   "execution_count": 28,
   "id": "da1c9cc8-ceb8-4dec-af2f-07b6cca59bb8",
   "metadata": {},
   "outputs": [
    {
     "name": "stdout",
     "output_type": "stream",
     "text": [
      "Tuned Model Accuracy: 0.9337\n",
      "              precision    recall  f1-score   support\n",
      "\n",
      "           A       0.96      0.97      0.97       158\n",
      "           B       0.86      0.91      0.88       153\n",
      "           C       0.96      0.95      0.95       147\n",
      "           D       0.94      0.94      0.94       161\n",
      "           E       0.91      0.94      0.92       154\n",
      "           F       0.92      0.89      0.90       155\n",
      "           G       0.90      0.92      0.91       155\n",
      "           H       0.90      0.88      0.89       147\n",
      "           I       0.95      0.89      0.92       151\n",
      "           J       0.93      0.93      0.93       149\n",
      "           K       0.87      0.94      0.90       148\n",
      "           L       0.96      0.94      0.95       152\n",
      "           M       0.97      0.96      0.97       158\n",
      "           N       0.95      0.93      0.94       157\n",
      "           O       0.92      0.91      0.92       150\n",
      "           P       0.95      0.94      0.95       161\n",
      "           Q       0.96      0.99      0.97       157\n",
      "           R       0.89      0.83      0.86       151\n",
      "           S       0.94      0.89      0.92       150\n",
      "           T       0.92      0.96      0.94       159\n",
      "           U       0.98      0.98      0.98       163\n",
      "           V       0.93      0.93      0.93       153\n",
      "           W       0.96      1.00      0.98       150\n",
      "           X       0.93      0.91      0.92       157\n",
      "           Y       0.95      0.96      0.95       157\n",
      "           Z       0.98      0.95      0.96       147\n",
      "\n",
      "    accuracy                           0.93      4000\n",
      "   macro avg       0.93      0.93      0.93      4000\n",
      "weighted avg       0.93      0.93      0.93      4000\n",
      "\n"
     ]
    }
   ],
   "source": [
    "accuracy_tuned = accuracy_score(y_test, y_pred_tuned)\n",
    "print(f\"Tuned Model Accuracy: {accuracy_tuned:.4f}\")\n",
    "print(classification_report(y_test, y_pred_tuned, target_names=label_encoder.classes_))"
   ]
  },
  {
   "cell_type": "markdown",
   "id": "b8e64b22-c58b-4826-b314-c706a850edaa",
   "metadata": {},
   "source": [
    "### Overall Accuracy Comparison\n",
    "#### Default Model Accuracy: 0.9095 (91.33%)\n",
    "#### Tuned Model Accuracy: 0.9347 (93.47%)\n",
    "#### Improvement: ~2.14% increase in overall accuracy"
   ]
  },
  {
   "cell_type": "markdown",
   "id": "d8c4d476-a1ae-4cae-bdaa-40225c917b7a",
   "metadata": {},
   "source": [
    "### Precision, Recall, and F1-Score Analysis\n",
    "#### Precision improved for most classes but slightly dropped for some (e.g., Class E, I, O, P, Y).\n",
    "#### Recall significantly improved for classes that had lower recall initially (e.g., H: +7%, E: +14%).\n",
    "#### Overall F1-score improved, meaning a better balance between precision and recall."
   ]
  },
  {
   "cell_type": "markdown",
   "id": "143bb222-713f-4fce-b28c-24a5ebaad6f5",
   "metadata": {},
   "source": [
    "### Effects of Hyperparameter Tuning\n",
    "### Hyperparameter tuning improved the model's predictive performance by optimizing key parameters such as:\n",
    "\n",
    "#### Number of layers and neurons: Better architecture may have led to improved feature extraction.\n",
    "#### Learning rate optimization: Avoided overshooting or slow convergence.\n",
    "#### Batch size and optimizer tuning: Improved training stability and convergence speed.\n",
    "#### Regularization techniques: Helped prevent overfitting, increasing generalization."
   ]
  },
  {
   "cell_type": "markdown",
   "id": "a2b25962-15e6-4f1c-8194-993c237e2696",
   "metadata": {},
   "source": [
    "### Conclusion:\n",
    "\n",
    "#### Hyperparameter tuning increased accuracy from 91.33% to 93.47%.\n",
    "#### Improved precision, recall, and F1-score for most classes.\n",
    "#### The model now generalizes better to new data.\n",
    "#### Some precision/recall trade-offs exist, but overall performance is superior after tuning.\n"
   ]
  },
  {
   "cell_type": "code",
   "execution_count": null,
   "id": "8b51bd5a-155a-4d1b-b1b5-0471f01d437d",
   "metadata": {},
   "outputs": [],
   "source": []
  }
 ],
 "metadata": {
  "kernelspec": {
   "display_name": "Python [conda env:base] *",
   "language": "python",
   "name": "conda-base-py"
  },
  "language_info": {
   "codemirror_mode": {
    "name": "ipython",
    "version": 3
   },
   "file_extension": ".py",
   "mimetype": "text/x-python",
   "name": "python",
   "nbconvert_exporter": "python",
   "pygments_lexer": "ipython3",
   "version": "3.12.7"
  }
 },
 "nbformat": 4,
 "nbformat_minor": 5
}
