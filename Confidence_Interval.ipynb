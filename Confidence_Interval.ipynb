{
 "cells": [
  {
   "cell_type": "markdown",
   "id": "956f3da9-729b-4d70-97a4-0cf9f5bbce0a",
   "metadata": {},
   "source": [
    "## Estimation And Confidence Intervals"
   ]
  },
  {
   "cell_type": "markdown",
   "id": "05c5bc57-edcb-43a9-8a2f-55634c5929b6",
   "metadata": {},
   "source": [
    "### a. Build 99% Confidence Interval Using Sample Standard Deviation"
   ]
  },
  {
   "cell_type": "code",
   "execution_count": 8,
   "id": "291aa9d3-d11e-4c68-91ac-dc1cab36256a",
   "metadata": {},
   "outputs": [],
   "source": [
    "from scipy import stats as st\n",
    "import numpy as np"
   ]
  },
  {
   "cell_type": "code",
   "execution_count": 10,
   "id": "d351584e-1345-4248-bc5f-a0013e7f05a6",
   "metadata": {},
   "outputs": [],
   "source": [
    "data = [1.13, 1.55, 1.43, 0.92, 1.25, 1.36, 1.32, 0.85, 1.07, 1.48, 1.20, 1.33, 1.18, 1.22, 1.29]"
   ]
  },
  {
   "cell_type": "code",
   "execution_count": 68,
   "id": "ea12d09e-3c0b-437c-b641-7cf3329f98d7",
   "metadata": {},
   "outputs": [],
   "source": [
    "# Calculate the sample size\n",
    "n = len(data)"
   ]
  },
  {
   "cell_type": "code",
   "execution_count": 70,
   "id": "9d1b2db9-ee8e-4735-971f-c553df3de820",
   "metadata": {},
   "outputs": [],
   "source": [
    "# Calculate the sample mean\n",
    "mean = np.mean(data)"
   ]
  },
  {
   "cell_type": "code",
   "execution_count": 72,
   "id": "daf49562-313f-4476-a358-7a8937f2ae79",
   "metadata": {},
   "outputs": [],
   "source": [
    "# calculate the sample standard deviation\n",
    "std_dev = np.std(data, ddof = 1)"
   ]
  },
  {
   "cell_type": "code",
   "execution_count": 74,
   "id": "a07669a0-c4ec-44f3-9a4f-2d1f65ce9f37",
   "metadata": {},
   "outputs": [],
   "source": [
    "# The significance level for a 99% confidence interval (1 - 0.99 = 0.01)\n",
    "alpha = 0.01\n",
    "# Degrees of freedom for the t-distribution (sample size - 1)\n",
    "df = n - 1"
   ]
  },
  {
   "cell_type": "code",
   "execution_count": 76,
   "id": "ce353749-b7ae-4657-b885-f2a46bc6e20a",
   "metadata": {},
   "outputs": [],
   "source": [
    "# The t-distribution is used because:\n",
    "# The sample size is small (𝑛 < 30).\n",
    "# The population standard deviation is unknown, so the sample standard deviation is used as an estimate.\n",
    "# Use the t-distribution to find the critical t-value for the given confidence level\n",
    "# 1 - alpha/2 accounts for the two-tailed nature of the confidence interval.\n",
    "t = st.t.ppf(1 - alpha / 2, df)"
   ]
  },
  {
   "cell_type": "code",
   "execution_count": 78,
   "id": "9eb3530b-5f5e-4a60-b25d-9ae4b5a5cede",
   "metadata": {},
   "outputs": [],
   "source": [
    "# Calculate the margin of error\n",
    "delta = t * (std_dev / np.sqrt(n))"
   ]
  },
  {
   "cell_type": "code",
   "execution_count": 84,
   "id": "6896cc2d-ea79-4c2a-aa8c-9fc38b17406f",
   "metadata": {},
   "outputs": [],
   "source": [
    "# Calculate the confidence interval\n",
    "confidence_intervals = ((mean - delta), (mean + delta))"
   ]
  },
  {
   "cell_type": "code",
   "execution_count": 107,
   "id": "0267c454-f061-4348-a5d8-c8287d8db8f5",
   "metadata": {},
   "outputs": [
    {
     "name": "stdout",
     "output_type": "stream",
     "text": [
      "Sample Mean: 1.2387\n",
      "Sample Standard Deviation: 0.1932\n",
      "T for 99% Confidence: 2.9768\n",
      "Margin of Error: 0.1485\n",
      "99% Confidence Interval: 1.0902, 1.3871)\n"
     ]
    }
   ],
   "source": [
    "print(f\"Sample Mean: {mean:.4f}\")\n",
    "print(f\"Sample Standard Deviation: {std_dev:.4f}\")\n",
    "print(f\"T for 99% Confidence: {t:.4f}\")\n",
    "print(f\"Margin of Error: {delta:.4f}\")\n",
    "print(f\"99% Confidence Interval: {confidence_intervals[0]:.4f}, {confidence_intervals[1]:.4f})\")\n"
   ]
  },
  {
   "cell_type": "code",
   "execution_count": null,
   "id": "f16164d6-6f72-441e-87f9-4d8020744def",
   "metadata": {},
   "outputs": [],
   "source": []
  },
  {
   "cell_type": "markdown",
   "id": "0e8171d6-f46f-4d4b-8abf-f20bc1b7358b",
   "metadata": {},
   "source": [
    "### b. Build 99% Confidence Interval Using Known Population Standard Deviation"
   ]
  },
  {
   "cell_type": "code",
   "execution_count": 111,
   "id": "af9b93b5-584a-4d09-a4b4-3fdf427e9b8b",
   "metadata": {},
   "outputs": [],
   "source": [
    "from scipy import stats as st\n",
    "import numpy as np"
   ]
  },
  {
   "cell_type": "code",
   "execution_count": 113,
   "id": "15eb5a37-0aa3-4046-8996-9b2752e9994a",
   "metadata": {},
   "outputs": [],
   "source": [
    "data = [1.13, 1.55, 1.43, 0.92, 1.25, 1.36, 1.32, 0.85, 1.07, 1.48, 1.20, 1.33, 1.18, 1.22, 1.29]"
   ]
  },
  {
   "cell_type": "code",
   "execution_count": 115,
   "id": "3d4a28af-19f3-4471-b74c-7db2cc1bcd7c",
   "metadata": {},
   "outputs": [],
   "source": [
    "# Calculate the sample size\n",
    "n = len(data)"
   ]
  },
  {
   "cell_type": "code",
   "execution_count": 117,
   "id": "28b05757-6fb1-446b-a100-1a2113ebfe2d",
   "metadata": {},
   "outputs": [],
   "source": [
    "# Calculate the sample mean\n",
    "mean = np.mean(data)"
   ]
  },
  {
   "cell_type": "code",
   "execution_count": 121,
   "id": "5ad2ae21-fa32-4269-9cd4-aeb00f90a155",
   "metadata": {},
   "outputs": [],
   "source": [
    "# Given sample standard deviation\n",
    "pop_std_dev = 0.2"
   ]
  },
  {
   "cell_type": "code",
   "execution_count": 125,
   "id": "49979255-ea36-4c0b-a952-6c0dacf79533",
   "metadata": {},
   "outputs": [],
   "source": [
    "# Find the Z-score for a 99% confidence interval\n",
    "alpha = 0.01\n",
    "z = st.norm.ppf(1 - alpha/2)"
   ]
  },
  {
   "cell_type": "code",
   "execution_count": 129,
   "id": "f01d94b6-5dc5-4954-96f8-09e4a5550721",
   "metadata": {},
   "outputs": [],
   "source": [
    "# Calculate the margin of error\n",
    "delta = z * (pop_std_dev / np.sqrt(n))"
   ]
  },
  {
   "cell_type": "code",
   "execution_count": 131,
   "id": "f79ea5bc-2006-4525-bf2a-04f9e9438072",
   "metadata": {},
   "outputs": [],
   "source": [
    "# Calculate the confidence interval\n",
    "confidence_intervals = ((mean - delta), (mean + delta))"
   ]
  },
  {
   "cell_type": "code",
   "execution_count": 137,
   "id": "3f8ce770-4a61-4087-b976-d1adaa39b43c",
   "metadata": {},
   "outputs": [
    {
     "name": "stdout",
     "output_type": "stream",
     "text": [
      "Sample Mean: 1.2387\n",
      "Z-Score for 99% Confidence: 2.5758\n",
      "Margin of Error: 0.1330\n",
      "99% Confidence Interval: (1.1057, 1.3717)\n"
     ]
    }
   ],
   "source": [
    "print(f\"Sample Mean: {mean:.4f}\")\n",
    "print(f\"Z-Score for 99% Confidence: {z:.4f}\")\n",
    "print(f\"Margin of Error: {delta:.4f}\")\n",
    "print(f\"99% Confidence Interval: ({confidence_intervals[0]:.4f}, {confidence_intervals[1]:.4f})\")"
   ]
  },
  {
   "cell_type": "code",
   "execution_count": null,
   "id": "886f4c38-e5dc-4e22-995b-eceac0161588",
   "metadata": {},
   "outputs": [],
   "source": []
  }
 ],
 "metadata": {
  "kernelspec": {
   "display_name": "Python [conda env:base] *",
   "language": "python",
   "name": "conda-base-py"
  },
  "language_info": {
   "codemirror_mode": {
    "name": "ipython",
    "version": 3
   },
   "file_extension": ".py",
   "mimetype": "text/x-python",
   "name": "python",
   "nbconvert_exporter": "python",
   "pygments_lexer": "ipython3",
   "version": "3.12.7"
  }
 },
 "nbformat": 4,
 "nbformat_minor": 5
}
