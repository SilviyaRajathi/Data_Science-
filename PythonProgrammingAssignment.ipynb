{
 "cells": [
  {
   "cell_type": "markdown",
   "id": "d85d2daa-e3af-4359-afc5-75846cfc58f0",
   "metadata": {},
   "source": [
    "### Exercise 1: Prime Numbers"
   ]
  },
  {
   "cell_type": "code",
   "execution_count": 11,
   "id": "9712c700-e8df-4deb-99c1-d7f6f1ca421d",
   "metadata": {},
   "outputs": [
    {
     "name": "stdin",
     "output_type": "stream",
     "text": [
      "Enter a number:  13\n"
     ]
    },
    {
     "name": "stdout",
     "output_type": "stream",
     "text": [
      "prime\n"
     ]
    }
   ],
   "source": [
    "# Get a number from the user\n",
    "num = int(input(\"Enter a number: \"))\n",
    "\n",
    "if num > 1:   # Check if the number is greater than 1\n",
    "    for i in range(2, num):   # Check if the number can be divided by any number between 2 and num-1\n",
    "        if num % i == 0:   # If num is divisible by i\n",
    "            print(\"not prime\")   # It's not a prime number\n",
    "            break   # Stop checking further\n",
    "    else:\n",
    "        print(\"prime\")   # If no divisors were found, it's a prime number\n",
    "else:\n",
    "    print(\"not prime\")   # Numbers 1 or less are not a prime number\n"
   ]
  },
  {
   "cell_type": "code",
   "execution_count": null,
   "id": "d84a6e8c-76d5-457f-8f70-0f35e08965d5",
   "metadata": {},
   "outputs": [],
   "source": []
  },
  {
   "cell_type": "markdown",
   "id": "f92ad559-4672-4506-b67e-2a98c366c5c4",
   "metadata": {},
   "source": [
    "### Exercise 2: Product of Random Numbers"
   ]
  },
  {
   "cell_type": "code",
   "execution_count": 19,
   "id": "a07830b9-0e0d-4d1f-a667-99d0ed0f958a",
   "metadata": {},
   "outputs": [
    {
     "name": "stdout",
     "output_type": "stream",
     "text": [
      "The number one is: 31\n",
      "The second number is: 91\n"
     ]
    },
    {
     "name": "stdin",
     "output_type": "stream",
     "text": [
      "Guess the product of the numbers:  2821\n"
     ]
    },
    {
     "name": "stdout",
     "output_type": "stream",
     "text": [
      "You won this game!\n"
     ]
    }
   ],
   "source": [
    "# Import the random module to generate random numbers\n",
    "import random\n",
    "\n",
    "# Generate a random number between 1 and 100 for num1\n",
    "num1 = random.randint(1, 100)\n",
    "\n",
    "# Generate a random number between 1 and 100 for num2\n",
    "num2 = random.randint(1, 100)\n",
    "\n",
    "# Display the first random number\n",
    "print(f\"The number one is: {num1}\")\n",
    "\n",
    "# Display the second random number\n",
    "print(f\"The second number is: {num2}\")\n",
    "\n",
    "# Ask the user to guess the product of the two random numbers\n",
    "user = int(input(\"Guess the product of the numbers: \"))\n",
    "\n",
    "# Check if the user's guess is equal to the actual product of num1 and num2\n",
    "if (num1 * num2) == user:\n",
    "    # If the guess is correct, print a winning message\n",
    "    print(\"You won this game!\")\n",
    "else:\n",
    "    # If the guess is incorrect, print a losing message\n",
    "    print(\"You lose this game.\")\n"
   ]
  },
  {
   "cell_type": "code",
   "execution_count": null,
   "id": "43a86dac-80ff-47af-989f-37d5477a41f5",
   "metadata": {},
   "outputs": [],
   "source": []
  },
  {
   "cell_type": "markdown",
   "id": "e57c820a-eb91-46fb-b31e-0f5894b71b87",
   "metadata": {},
   "source": [
    "### Exercise 3: Squares of Even/Odd Numbers"
   ]
  },
  {
   "cell_type": "code",
   "execution_count": 25,
   "id": "d5ad5a79-6a62-4dbc-8cb0-45e3cccfa63a",
   "metadata": {},
   "outputs": [
    {
     "name": "stdin",
     "output_type": "stream",
     "text": [
      "Choose odd or even:  even\n"
     ]
    },
    {
     "name": "stdout",
     "output_type": "stream",
     "text": [
      "100 : 10000\n",
      "102 : 10404\n",
      "104 : 10816\n",
      "106 : 11236\n",
      "108 : 11664\n",
      "110 : 12100\n",
      "112 : 12544\n",
      "114 : 12996\n",
      "116 : 13456\n",
      "118 : 13924\n",
      "120 : 14400\n",
      "122 : 14884\n",
      "124 : 15376\n",
      "126 : 15876\n",
      "128 : 16384\n",
      "130 : 16900\n",
      "132 : 17424\n",
      "134 : 17956\n",
      "136 : 18496\n",
      "138 : 19044\n",
      "140 : 19600\n",
      "142 : 20164\n",
      "144 : 20736\n",
      "146 : 21316\n",
      "148 : 21904\n",
      "150 : 22500\n",
      "152 : 23104\n",
      "154 : 23716\n",
      "156 : 24336\n",
      "158 : 24964\n",
      "160 : 25600\n",
      "162 : 26244\n",
      "164 : 26896\n",
      "166 : 27556\n",
      "168 : 28224\n",
      "170 : 28900\n",
      "172 : 29584\n",
      "174 : 30276\n",
      "176 : 30976\n",
      "178 : 31684\n",
      "180 : 32400\n",
      "182 : 33124\n",
      "184 : 33856\n",
      "186 : 34596\n",
      "188 : 35344\n",
      "190 : 36100\n",
      "192 : 36864\n",
      "194 : 37636\n",
      "196 : 38416\n",
      "198 : 39204\n",
      "200 : 40000\n",
      "102 10404\n",
      "104 10816\n",
      "106 11236\n",
      "108 11664\n",
      "110 12100\n",
      "112 12544\n",
      "114 12996\n",
      "116 13456\n",
      "118 13924\n",
      "120 14400\n",
      "122 14884\n",
      "124 15376\n",
      "126 15876\n",
      "128 16384\n",
      "130 16900\n",
      "132 17424\n",
      "134 17956\n",
      "136 18496\n",
      "138 19044\n",
      "140 19600\n",
      "142 20164\n",
      "144 20736\n",
      "146 21316\n",
      "148 21904\n",
      "150 22500\n",
      "152 23104\n",
      "154 23716\n",
      "156 24336\n",
      "158 24964\n",
      "160 25600\n",
      "162 26244\n",
      "164 26896\n",
      "166 27556\n",
      "168 28224\n",
      "170 28900\n",
      "172 29584\n",
      "174 30276\n",
      "176 30976\n",
      "178 31684\n",
      "180 32400\n",
      "182 33124\n",
      "184 33856\n",
      "186 34596\n",
      "188 35344\n",
      "190 36100\n",
      "192 36864\n",
      "194 37636\n",
      "196 38416\n",
      "198 39204\n",
      "200 40000\n"
     ]
    }
   ],
   "source": [
    "odd = \"odd\"  # Represents odd numbers\n",
    "even = \"even\"  # Represents even numbers\n",
    "\n",
    "# Ask the user to choose \"odd\" or \"even\"\n",
    "user = input(\"Choose odd or even: \").lower()  # Convert input to lowercase to make it case-insensitive\n",
    "\n",
    "# Loop through numbers from 100 to 200\n",
    "for i in range(100, 201):\n",
    "    # Check if the number is even\n",
    "    if i % 2 == 0:  # If the remainder when dividing by 2 is 0, it's even\n",
    "        if user == even:  # If the user chose \"even\"\n",
    "            print(f\"{i} : {i**2}\")  # Print the number and its square\n",
    "    # Check if the number is odd\n",
    "    elif i % 2 != 0:  # If the remainder when dividing by 2 is not 0, it's odd\n",
    "        if user == odd:  # If the user chose \"odd\"\n",
    "            print(f\"{i} : {i**2}\")  # Print the number and its square\n",
    "\n",
    "# Loop through numbers from 101 to 200\n",
    "for i in range(101, 201):\n",
    "    # Check if the number is even\n",
    "    if i % 2 == 0:  # If the remainder when dividing by 2 is 0, it's even\n",
    "        print(i, i**2)  # Print the number and its square\n"
   ]
  },
  {
   "cell_type": "code",
   "execution_count": null,
   "id": "00c4ea19-e694-4393-a36e-114bae4a0637",
   "metadata": {},
   "outputs": [],
   "source": []
  },
  {
   "cell_type": "markdown",
   "id": "bb7a881f-dcc5-4a47-a406-e88daaec0861",
   "metadata": {},
   "source": [
    "### Exercise 4: Word counter"
   ]
  },
  {
   "cell_type": "code",
   "execution_count": 48,
   "id": "d9cdf1b4-4ce8-4b62-be4d-44a34f769fd9",
   "metadata": {},
   "outputs": [
    {
     "name": "stdout",
     "output_type": "stream",
     "text": [
      "'This': 2\n",
      "'is': 1\n",
      "'a': 1\n",
      "'simple': 1\n",
      "'text.': 1\n",
      "'text': 1\n",
      "'will': 1\n",
      "'be': 1\n",
      "'used': 1\n",
      "'to': 1\n",
      "'demonstrate': 1\n",
      "'the': 1\n",
      "'word': 1\n",
      "'counter.': 1\n"
     ]
    }
   ],
   "source": [
    "def word_counter(input_text):\n",
    "    words = input_text.split()  # Split text into words\n",
    "    word_count = {}  # Dictionary to store word counts\n",
    "\n",
    "    for word in words:\n",
    "        if word not in word_count:  # If word is not in dictionary\n",
    "            word_count[word] = 1  # Add word with count 1\n",
    "        else:\n",
    "            word_count[word] += 1  # Increment word count\n",
    "\n",
    "    for word in word_count:  # Print each word and its count\n",
    "        print(f\"'{word}': {word_count[word]}\")\n",
    "\n",
    "# Example usage\n",
    "input_text = \"This is a simple text. This text will be used to demonstrate the word counter.\"\n",
    "word_counter(input_text)\n"
   ]
  },
  {
   "cell_type": "code",
   "execution_count": null,
   "id": "9b0e918a-bea9-4a42-b72c-70b2afc128fb",
   "metadata": {},
   "outputs": [],
   "source": []
  },
  {
   "cell_type": "markdown",
   "id": "5cf28602-9611-4dc1-a487-977da5155af6",
   "metadata": {},
   "source": [
    "### Exercise 5: Check for Palindrome"
   ]
  },
  {
   "cell_type": "code",
   "execution_count": 35,
   "id": "bf05b1d7-87a8-43fe-aa14-73b00c6f1232",
   "metadata": {},
   "outputs": [
    {
     "name": "stdin",
     "output_type": "stream",
     "text": [
      "Enter a word:  saas\n"
     ]
    },
    {
     "name": "stdout",
     "output_type": "stream",
     "text": [
      "It is a palindrome\n"
     ]
    }
   ],
   "source": [
    "# Ask the user to enter a word\n",
    "word = input(\"Enter a word: \").lower()  # Convert the word to lowercase to ignore case differences\n",
    "\n",
    "# Check if the word is the same when reversed\n",
    "if word == word[::-1]:  # word[::-1] reverses the word\n",
    "    # If the word is the same forward and backward, it's a palindrome\n",
    "    print(\"It is a palindrome\")\n",
    "else:\n",
    "    # If the word is not the same forward and backward, it's not a palindrome\n",
    "    print(\"Not a palindrome\")\n"
   ]
  },
  {
   "cell_type": "code",
   "execution_count": null,
   "id": "b591e8b1-24be-4365-8f7d-c001fec58d17",
   "metadata": {},
   "outputs": [],
   "source": []
  }
 ],
 "metadata": {
  "kernelspec": {
   "display_name": "Python [conda env:base] *",
   "language": "python",
   "name": "conda-base-py"
  },
  "language_info": {
   "codemirror_mode": {
    "name": "ipython",
    "version": 3
   },
   "file_extension": ".py",
   "mimetype": "text/x-python",
   "name": "python",
   "nbconvert_exporter": "python",
   "pygments_lexer": "ipython3",
   "version": "3.12.7"
  }
 },
 "nbformat": 4,
 "nbformat_minor": 5
}
