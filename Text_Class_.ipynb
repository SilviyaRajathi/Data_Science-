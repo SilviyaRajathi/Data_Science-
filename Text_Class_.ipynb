{
 "cells": [
  {
   "cell_type": "markdown",
   "id": "41271e69-0e3a-48ed-9d6a-ea2eb70f6655",
   "metadata": {},
   "source": [
    "# TEXT CLASSIFICATION USING NAIVE BAYES AND SENTIMENT ANALYSIS ON BLOG POSTS"
   ]
  },
  {
   "cell_type": "markdown",
   "id": "8d8610ae-58f6-4ffc-b94c-2cbaa9e0b53a",
   "metadata": {},
   "source": [
    "## 1. Data Exploration and Preprocessing"
   ]
  },
  {
   "cell_type": "code",
   "execution_count": 179,
   "id": "06581632-2051-4456-b31f-bcaf9bf4bc71",
   "metadata": {},
   "outputs": [],
   "source": [
    "import pandas as pd\n",
    "import numpy as np\n",
    "import matplotlib.pyplot as plt\n",
    "import seaborn as sns\n",
    "import warnings\n",
    "warnings.filterwarnings('ignore')"
   ]
  },
  {
   "cell_type": "markdown",
   "id": "ae3641ac-5dd3-4a23-bc4f-869c650269b1",
   "metadata": {},
   "source": [
    "### Load the dataset "
   ]
  },
  {
   "cell_type": "code",
   "execution_count": 182,
   "id": "bd70e190-4f4d-4d55-8225-e6dda00d575e",
   "metadata": {},
   "outputs": [],
   "source": [
    "df = pd.read_csv('blogs.csv')"
   ]
  },
  {
   "cell_type": "code",
   "execution_count": 184,
   "id": "2808b21c-8bd2-4cac-9211-41dd1affd037",
   "metadata": {},
   "outputs": [
    {
     "data": {
      "text/html": [
       "<div>\n",
       "<style scoped>\n",
       "    .dataframe tbody tr th:only-of-type {\n",
       "        vertical-align: middle;\n",
       "    }\n",
       "\n",
       "    .dataframe tbody tr th {\n",
       "        vertical-align: top;\n",
       "    }\n",
       "\n",
       "    .dataframe thead th {\n",
       "        text-align: right;\n",
       "    }\n",
       "</style>\n",
       "<table border=\"1\" class=\"dataframe\">\n",
       "  <thead>\n",
       "    <tr style=\"text-align: right;\">\n",
       "      <th></th>\n",
       "      <th>Data</th>\n",
       "      <th>Labels</th>\n",
       "    </tr>\n",
       "  </thead>\n",
       "  <tbody>\n",
       "    <tr>\n",
       "      <th>0</th>\n",
       "      <td>Path: cantaloupe.srv.cs.cmu.edu!magnesium.club...</td>\n",
       "      <td>alt.atheism</td>\n",
       "    </tr>\n",
       "    <tr>\n",
       "      <th>1</th>\n",
       "      <td>Newsgroups: alt.atheism\\nPath: cantaloupe.srv....</td>\n",
       "      <td>alt.atheism</td>\n",
       "    </tr>\n",
       "    <tr>\n",
       "      <th>2</th>\n",
       "      <td>Path: cantaloupe.srv.cs.cmu.edu!das-news.harva...</td>\n",
       "      <td>alt.atheism</td>\n",
       "    </tr>\n",
       "    <tr>\n",
       "      <th>3</th>\n",
       "      <td>Path: cantaloupe.srv.cs.cmu.edu!magnesium.club...</td>\n",
       "      <td>alt.atheism</td>\n",
       "    </tr>\n",
       "    <tr>\n",
       "      <th>4</th>\n",
       "      <td>Xref: cantaloupe.srv.cs.cmu.edu alt.atheism:53...</td>\n",
       "      <td>alt.atheism</td>\n",
       "    </tr>\n",
       "    <tr>\n",
       "      <th>...</th>\n",
       "      <td>...</td>\n",
       "      <td>...</td>\n",
       "    </tr>\n",
       "    <tr>\n",
       "      <th>1995</th>\n",
       "      <td>Xref: cantaloupe.srv.cs.cmu.edu talk.abortion:...</td>\n",
       "      <td>talk.religion.misc</td>\n",
       "    </tr>\n",
       "    <tr>\n",
       "      <th>1996</th>\n",
       "      <td>Xref: cantaloupe.srv.cs.cmu.edu talk.religion....</td>\n",
       "      <td>talk.religion.misc</td>\n",
       "    </tr>\n",
       "    <tr>\n",
       "      <th>1997</th>\n",
       "      <td>Xref: cantaloupe.srv.cs.cmu.edu talk.origins:4...</td>\n",
       "      <td>talk.religion.misc</td>\n",
       "    </tr>\n",
       "    <tr>\n",
       "      <th>1998</th>\n",
       "      <td>Xref: cantaloupe.srv.cs.cmu.edu talk.religion....</td>\n",
       "      <td>talk.religion.misc</td>\n",
       "    </tr>\n",
       "    <tr>\n",
       "      <th>1999</th>\n",
       "      <td>Xref: cantaloupe.srv.cs.cmu.edu sci.skeptic:43...</td>\n",
       "      <td>talk.religion.misc</td>\n",
       "    </tr>\n",
       "  </tbody>\n",
       "</table>\n",
       "<p>2000 rows × 2 columns</p>\n",
       "</div>"
      ],
      "text/plain": [
       "                                                   Data              Labels\n",
       "0     Path: cantaloupe.srv.cs.cmu.edu!magnesium.club...         alt.atheism\n",
       "1     Newsgroups: alt.atheism\\nPath: cantaloupe.srv....         alt.atheism\n",
       "2     Path: cantaloupe.srv.cs.cmu.edu!das-news.harva...         alt.atheism\n",
       "3     Path: cantaloupe.srv.cs.cmu.edu!magnesium.club...         alt.atheism\n",
       "4     Xref: cantaloupe.srv.cs.cmu.edu alt.atheism:53...         alt.atheism\n",
       "...                                                 ...                 ...\n",
       "1995  Xref: cantaloupe.srv.cs.cmu.edu talk.abortion:...  talk.religion.misc\n",
       "1996  Xref: cantaloupe.srv.cs.cmu.edu talk.religion....  talk.religion.misc\n",
       "1997  Xref: cantaloupe.srv.cs.cmu.edu talk.origins:4...  talk.religion.misc\n",
       "1998  Xref: cantaloupe.srv.cs.cmu.edu talk.religion....  talk.religion.misc\n",
       "1999  Xref: cantaloupe.srv.cs.cmu.edu sci.skeptic:43...  talk.religion.misc\n",
       "\n",
       "[2000 rows x 2 columns]"
      ]
     },
     "execution_count": 184,
     "metadata": {},
     "output_type": "execute_result"
    }
   ],
   "source": [
    "df"
   ]
  },
  {
   "cell_type": "code",
   "execution_count": 186,
   "id": "b0210a81-5926-4d1a-a8e8-88a68fe9b5d1",
   "metadata": {},
   "outputs": [
    {
     "data": {
      "text/plain": [
       "Labels\n",
       "alt.atheism                 100\n",
       "comp.graphics               100\n",
       "talk.politics.misc          100\n",
       "talk.politics.mideast       100\n",
       "talk.politics.guns          100\n",
       "soc.religion.christian      100\n",
       "sci.space                   100\n",
       "sci.med                     100\n",
       "sci.electronics             100\n",
       "sci.crypt                   100\n",
       "rec.sport.hockey            100\n",
       "rec.sport.baseball          100\n",
       "rec.motorcycles             100\n",
       "rec.autos                   100\n",
       "misc.forsale                100\n",
       "comp.windows.x              100\n",
       "comp.sys.mac.hardware       100\n",
       "comp.sys.ibm.pc.hardware    100\n",
       "comp.os.ms-windows.misc     100\n",
       "talk.religion.misc          100\n",
       "Name: count, dtype: int64"
      ]
     },
     "execution_count": 186,
     "metadata": {},
     "output_type": "execute_result"
    }
   ],
   "source": [
    "df['Labels'].value_counts()"
   ]
  },
  {
   "cell_type": "markdown",
   "id": "74e51bb7-be00-491e-adc8-cdafa90655b1",
   "metadata": {},
   "source": [
    "### Preprocess the data by cleaning the text (removing punctuation, converting to lowercase, etc.), tokenizing, and removing stopwords."
   ]
  },
  {
   "cell_type": "code",
   "execution_count": 189,
   "id": "85f3a820-a8e8-4483-9c5f-8a142a58ee4a",
   "metadata": {},
   "outputs": [
    {
     "data": {
      "text/plain": [
       "True"
      ]
     },
     "execution_count": 189,
     "metadata": {},
     "output_type": "execute_result"
    }
   ],
   "source": [
    "import nltk\n",
    "nltk.download('punkt', quiet=True)\n",
    "nltk.download('punkt_tab', quiet=True)\n",
    "nltk.download('stopwords', quiet=True)"
   ]
  },
  {
   "cell_type": "code",
   "execution_count": 191,
   "id": "f2c6b5ee-5ef2-4052-b110-4d3bd3a39465",
   "metadata": {},
   "outputs": [],
   "source": [
    "import string\n",
    "import nltk\n",
    "from nltk.corpus import stopwords\n",
    "from nltk.tokenize import word_tokenize\n",
    "\n",
    "stop_words = set(stopwords.words('english'))\n",
    "\n",
    "# Preprocessing function\n",
    "def preprocess_text(text):\n",
    "    # Convert to lowercase\n",
    "    text = text.lower()\n",
    "    \n",
    "    # Remove punctuation\n",
    "    text = ''.join([char for char in text if char not in string.punctuation])\n",
    "    \n",
    "    # Tokenize the text\n",
    "    tokens = word_tokenize(text)\n",
    "    \n",
    "    # Remove stopwords\n",
    "    tokens = [word for word in tokens if word not in stop_words]\n",
    "    \n",
    "    return ' '.join(tokens)\n",
    "\n",
    "# Apply preprocessing\n",
    "df['cleaned_data'] = df['Data'].apply(preprocess_text)\n"
   ]
  },
  {
   "cell_type": "code",
   "execution_count": 192,
   "id": "845723cf-078b-469d-968e-c64018f7b44c",
   "metadata": {},
   "outputs": [
    {
     "data": {
      "text/html": [
       "<div>\n",
       "<style scoped>\n",
       "    .dataframe tbody tr th:only-of-type {\n",
       "        vertical-align: middle;\n",
       "    }\n",
       "\n",
       "    .dataframe tbody tr th {\n",
       "        vertical-align: top;\n",
       "    }\n",
       "\n",
       "    .dataframe thead th {\n",
       "        text-align: right;\n",
       "    }\n",
       "</style>\n",
       "<table border=\"1\" class=\"dataframe\">\n",
       "  <thead>\n",
       "    <tr style=\"text-align: right;\">\n",
       "      <th></th>\n",
       "      <th>Data</th>\n",
       "      <th>Labels</th>\n",
       "      <th>cleaned_data</th>\n",
       "    </tr>\n",
       "  </thead>\n",
       "  <tbody>\n",
       "    <tr>\n",
       "      <th>0</th>\n",
       "      <td>Path: cantaloupe.srv.cs.cmu.edu!magnesium.club...</td>\n",
       "      <td>alt.atheism</td>\n",
       "      <td>path cantaloupesrvcscmuedumagnesiumclubcccmued...</td>\n",
       "    </tr>\n",
       "    <tr>\n",
       "      <th>1</th>\n",
       "      <td>Newsgroups: alt.atheism\\nPath: cantaloupe.srv....</td>\n",
       "      <td>alt.atheism</td>\n",
       "      <td>newsgroups altatheism path cantaloupesrvcscmue...</td>\n",
       "    </tr>\n",
       "    <tr>\n",
       "      <th>2</th>\n",
       "      <td>Path: cantaloupe.srv.cs.cmu.edu!das-news.harva...</td>\n",
       "      <td>alt.atheism</td>\n",
       "      <td>path cantaloupesrvcscmuedudasnewsharvardedunoc...</td>\n",
       "    </tr>\n",
       "    <tr>\n",
       "      <th>3</th>\n",
       "      <td>Path: cantaloupe.srv.cs.cmu.edu!magnesium.club...</td>\n",
       "      <td>alt.atheism</td>\n",
       "      <td>path cantaloupesrvcscmuedumagnesiumclubcccmued...</td>\n",
       "    </tr>\n",
       "    <tr>\n",
       "      <th>4</th>\n",
       "      <td>Xref: cantaloupe.srv.cs.cmu.edu alt.atheism:53...</td>\n",
       "      <td>alt.atheism</td>\n",
       "      <td>xref cantaloupesrvcscmuedu altatheism53485 tal...</td>\n",
       "    </tr>\n",
       "    <tr>\n",
       "      <th>...</th>\n",
       "      <td>...</td>\n",
       "      <td>...</td>\n",
       "      <td>...</td>\n",
       "    </tr>\n",
       "    <tr>\n",
       "      <th>1995</th>\n",
       "      <td>Xref: cantaloupe.srv.cs.cmu.edu talk.abortion:...</td>\n",
       "      <td>talk.religion.misc</td>\n",
       "      <td>xref cantaloupesrvcscmuedu talkabortion120945 ...</td>\n",
       "    </tr>\n",
       "    <tr>\n",
       "      <th>1996</th>\n",
       "      <td>Xref: cantaloupe.srv.cs.cmu.edu talk.religion....</td>\n",
       "      <td>talk.religion.misc</td>\n",
       "      <td>xref cantaloupesrvcscmuedu talkreligionmisc837...</td>\n",
       "    </tr>\n",
       "    <tr>\n",
       "      <th>1997</th>\n",
       "      <td>Xref: cantaloupe.srv.cs.cmu.edu talk.origins:4...</td>\n",
       "      <td>talk.religion.misc</td>\n",
       "      <td>xref cantaloupesrvcscmuedu talkorigins41030 ta...</td>\n",
       "    </tr>\n",
       "    <tr>\n",
       "      <th>1998</th>\n",
       "      <td>Xref: cantaloupe.srv.cs.cmu.edu talk.religion....</td>\n",
       "      <td>talk.religion.misc</td>\n",
       "      <td>xref cantaloupesrvcscmuedu talkreligionmisc836...</td>\n",
       "    </tr>\n",
       "    <tr>\n",
       "      <th>1999</th>\n",
       "      <td>Xref: cantaloupe.srv.cs.cmu.edu sci.skeptic:43...</td>\n",
       "      <td>talk.religion.misc</td>\n",
       "      <td>xref cantaloupesrvcscmuedu sciskeptic43561 tal...</td>\n",
       "    </tr>\n",
       "  </tbody>\n",
       "</table>\n",
       "<p>2000 rows × 3 columns</p>\n",
       "</div>"
      ],
      "text/plain": [
       "                                                   Data              Labels  \\\n",
       "0     Path: cantaloupe.srv.cs.cmu.edu!magnesium.club...         alt.atheism   \n",
       "1     Newsgroups: alt.atheism\\nPath: cantaloupe.srv....         alt.atheism   \n",
       "2     Path: cantaloupe.srv.cs.cmu.edu!das-news.harva...         alt.atheism   \n",
       "3     Path: cantaloupe.srv.cs.cmu.edu!magnesium.club...         alt.atheism   \n",
       "4     Xref: cantaloupe.srv.cs.cmu.edu alt.atheism:53...         alt.atheism   \n",
       "...                                                 ...                 ...   \n",
       "1995  Xref: cantaloupe.srv.cs.cmu.edu talk.abortion:...  talk.religion.misc   \n",
       "1996  Xref: cantaloupe.srv.cs.cmu.edu talk.religion....  talk.religion.misc   \n",
       "1997  Xref: cantaloupe.srv.cs.cmu.edu talk.origins:4...  talk.religion.misc   \n",
       "1998  Xref: cantaloupe.srv.cs.cmu.edu talk.religion....  talk.religion.misc   \n",
       "1999  Xref: cantaloupe.srv.cs.cmu.edu sci.skeptic:43...  talk.religion.misc   \n",
       "\n",
       "                                           cleaned_data  \n",
       "0     path cantaloupesrvcscmuedumagnesiumclubcccmued...  \n",
       "1     newsgroups altatheism path cantaloupesrvcscmue...  \n",
       "2     path cantaloupesrvcscmuedudasnewsharvardedunoc...  \n",
       "3     path cantaloupesrvcscmuedumagnesiumclubcccmued...  \n",
       "4     xref cantaloupesrvcscmuedu altatheism53485 tal...  \n",
       "...                                                 ...  \n",
       "1995  xref cantaloupesrvcscmuedu talkabortion120945 ...  \n",
       "1996  xref cantaloupesrvcscmuedu talkreligionmisc837...  \n",
       "1997  xref cantaloupesrvcscmuedu talkorigins41030 ta...  \n",
       "1998  xref cantaloupesrvcscmuedu talkreligionmisc836...  \n",
       "1999  xref cantaloupesrvcscmuedu sciskeptic43561 tal...  \n",
       "\n",
       "[2000 rows x 3 columns]"
      ]
     },
     "execution_count": 192,
     "metadata": {},
     "output_type": "execute_result"
    }
   ],
   "source": [
    "df"
   ]
  },
  {
   "cell_type": "code",
   "execution_count": 193,
   "id": "b8f80707-9a2b-4791-846b-e3968326a802",
   "metadata": {},
   "outputs": [],
   "source": [
    "#dropping the 'data' column\n",
    "df = df.drop(columns=['Data'])"
   ]
  },
  {
   "cell_type": "code",
   "execution_count": 194,
   "id": "783c9311-f6a9-45d3-b12f-5a89f90fdc96",
   "metadata": {},
   "outputs": [
    {
     "data": {
      "text/html": [
       "<div>\n",
       "<style scoped>\n",
       "    .dataframe tbody tr th:only-of-type {\n",
       "        vertical-align: middle;\n",
       "    }\n",
       "\n",
       "    .dataframe tbody tr th {\n",
       "        vertical-align: top;\n",
       "    }\n",
       "\n",
       "    .dataframe thead th {\n",
       "        text-align: right;\n",
       "    }\n",
       "</style>\n",
       "<table border=\"1\" class=\"dataframe\">\n",
       "  <thead>\n",
       "    <tr style=\"text-align: right;\">\n",
       "      <th></th>\n",
       "      <th>Labels</th>\n",
       "      <th>cleaned_data</th>\n",
       "    </tr>\n",
       "  </thead>\n",
       "  <tbody>\n",
       "    <tr>\n",
       "      <th>0</th>\n",
       "      <td>alt.atheism</td>\n",
       "      <td>path cantaloupesrvcscmuedumagnesiumclubcccmued...</td>\n",
       "    </tr>\n",
       "    <tr>\n",
       "      <th>1</th>\n",
       "      <td>alt.atheism</td>\n",
       "      <td>newsgroups altatheism path cantaloupesrvcscmue...</td>\n",
       "    </tr>\n",
       "    <tr>\n",
       "      <th>2</th>\n",
       "      <td>alt.atheism</td>\n",
       "      <td>path cantaloupesrvcscmuedudasnewsharvardedunoc...</td>\n",
       "    </tr>\n",
       "    <tr>\n",
       "      <th>3</th>\n",
       "      <td>alt.atheism</td>\n",
       "      <td>path cantaloupesrvcscmuedumagnesiumclubcccmued...</td>\n",
       "    </tr>\n",
       "    <tr>\n",
       "      <th>4</th>\n",
       "      <td>alt.atheism</td>\n",
       "      <td>xref cantaloupesrvcscmuedu altatheism53485 tal...</td>\n",
       "    </tr>\n",
       "    <tr>\n",
       "      <th>...</th>\n",
       "      <td>...</td>\n",
       "      <td>...</td>\n",
       "    </tr>\n",
       "    <tr>\n",
       "      <th>1995</th>\n",
       "      <td>talk.religion.misc</td>\n",
       "      <td>xref cantaloupesrvcscmuedu talkabortion120945 ...</td>\n",
       "    </tr>\n",
       "    <tr>\n",
       "      <th>1996</th>\n",
       "      <td>talk.religion.misc</td>\n",
       "      <td>xref cantaloupesrvcscmuedu talkreligionmisc837...</td>\n",
       "    </tr>\n",
       "    <tr>\n",
       "      <th>1997</th>\n",
       "      <td>talk.religion.misc</td>\n",
       "      <td>xref cantaloupesrvcscmuedu talkorigins41030 ta...</td>\n",
       "    </tr>\n",
       "    <tr>\n",
       "      <th>1998</th>\n",
       "      <td>talk.religion.misc</td>\n",
       "      <td>xref cantaloupesrvcscmuedu talkreligionmisc836...</td>\n",
       "    </tr>\n",
       "    <tr>\n",
       "      <th>1999</th>\n",
       "      <td>talk.religion.misc</td>\n",
       "      <td>xref cantaloupesrvcscmuedu sciskeptic43561 tal...</td>\n",
       "    </tr>\n",
       "  </tbody>\n",
       "</table>\n",
       "<p>2000 rows × 2 columns</p>\n",
       "</div>"
      ],
      "text/plain": [
       "                  Labels                                       cleaned_data\n",
       "0            alt.atheism  path cantaloupesrvcscmuedumagnesiumclubcccmued...\n",
       "1            alt.atheism  newsgroups altatheism path cantaloupesrvcscmue...\n",
       "2            alt.atheism  path cantaloupesrvcscmuedudasnewsharvardedunoc...\n",
       "3            alt.atheism  path cantaloupesrvcscmuedumagnesiumclubcccmued...\n",
       "4            alt.atheism  xref cantaloupesrvcscmuedu altatheism53485 tal...\n",
       "...                  ...                                                ...\n",
       "1995  talk.religion.misc  xref cantaloupesrvcscmuedu talkabortion120945 ...\n",
       "1996  talk.religion.misc  xref cantaloupesrvcscmuedu talkreligionmisc837...\n",
       "1997  talk.religion.misc  xref cantaloupesrvcscmuedu talkorigins41030 ta...\n",
       "1998  talk.religion.misc  xref cantaloupesrvcscmuedu talkreligionmisc836...\n",
       "1999  talk.religion.misc  xref cantaloupesrvcscmuedu sciskeptic43561 tal...\n",
       "\n",
       "[2000 rows x 2 columns]"
      ]
     },
     "execution_count": 194,
     "metadata": {},
     "output_type": "execute_result"
    }
   ],
   "source": [
    "df"
   ]
  },
  {
   "cell_type": "markdown",
   "id": "79b5495e-4a24-4cb7-a973-a9c2280d9ea2",
   "metadata": {},
   "source": [
    "### Perform feature extraction to convert text data into a format that can be used by the Naive Bayes model, using techniques such as TF-IDF."
   ]
  },
  {
   "cell_type": "code",
   "execution_count": 196,
   "id": "8d4d95f4-e98f-4d3e-bec1-6ccf4b55cf20",
   "metadata": {},
   "outputs": [],
   "source": [
    "from sklearn.feature_extraction.text import TfidfVectorizer\n",
    "\n",
    "# Create a TF-IDF vectorizer\n",
    "vectorizer = TfidfVectorizer()  # You can adjust the max_features as needed\n",
    "\n",
    "# Fit and transform the cleaned text\n",
    "X = vectorizer.fit_transform(df['cleaned_data'])\n",
    "\n",
    "# Get the labels\n",
    "y = df['Labels']"
   ]
  },
  {
   "cell_type": "markdown",
   "id": "f2afca60-6f96-4344-8490-56189336d7da",
   "metadata": {},
   "source": [
    "## 2. Naive Bayes Model for Text Classification"
   ]
  },
  {
   "cell_type": "markdown",
   "id": "ae51cc06-ce71-4111-9ab2-022022be8fcb",
   "metadata": {},
   "source": [
    "### Split the data into training and test sets."
   ]
  },
  {
   "cell_type": "code",
   "execution_count": 199,
   "id": "7d825895-ec3f-4144-adc5-3ae7b271c835",
   "metadata": {},
   "outputs": [],
   "source": [
    "from sklearn.model_selection import train_test_split\n",
    "X_train, X_test, y_train, y_test = train_test_split(X, y, test_size=0.3, random_state=42)"
   ]
  },
  {
   "cell_type": "code",
   "execution_count": 200,
   "id": "549db9c0-0d9a-4503-88f7-27892fb322a5",
   "metadata": {},
   "outputs": [
    {
     "data": {
      "text/plain": [
       "((1400, 56432), (600, 56432), (1400,), (600,))"
      ]
     },
     "execution_count": 200,
     "metadata": {},
     "output_type": "execute_result"
    }
   ],
   "source": [
    "X_train.shape, X_test.shape, y_train.shape, y_test.shape"
   ]
  },
  {
   "cell_type": "markdown",
   "id": "fb5cace4-b3a3-42c4-98bb-e1bc9c124525",
   "metadata": {},
   "source": [
    "### Implement a Naive Bayes classifier to categorize the blog posts into their respective categories"
   ]
  },
  {
   "cell_type": "code",
   "execution_count": 206,
   "id": "5142fca5-db90-4f8b-8044-caa3bc2a9732",
   "metadata": {},
   "outputs": [],
   "source": [
    "from sklearn.naive_bayes import MultinomialNB\n",
    "from sklearn.metrics import accuracy_score, classification_report\n",
    "\n",
    "# Initialize the Naive Bayes model\n",
    "nb_model = MultinomialNB()\n",
    "\n",
    "# Train the model\n",
    "nb_model.fit(X_train, y_train)\n",
    "\n",
    "# Make predictions on the test set\n",
    "ytrain_predict = nb_model.predict(X_train)\n",
    "ytest_pred = nb_model.predict(X_test)"
   ]
  },
  {
   "cell_type": "code",
   "execution_count": 219,
   "id": "f58c1d18-b6a2-4943-9564-e2efd1045194",
   "metadata": {},
   "outputs": [
    {
     "data": {
      "text/plain": [
       "array(['alt.atheism', 'comp.sys.ibm.pc.hardware', 'sci.med',\n",
       "       'rec.sport.baseball', 'sci.electronics', 'sci.electronics',\n",
       "       'rec.sport.baseball', 'talk.politics.mideast', 'alt.atheism',\n",
       "       'sci.med', 'alt.atheism', 'sci.crypt', 'sci.crypt',\n",
       "       'rec.motorcycles', 'comp.sys.ibm.pc.hardware',\n",
       "       'comp.os.ms-windows.misc', 'rec.autos', 'comp.graphics',\n",
       "       'talk.politics.guns', 'talk.politics.misc', 'misc.forsale',\n",
       "       'alt.atheism', 'alt.atheism', 'rec.sport.hockey', 'alt.atheism',\n",
       "       'sci.crypt', 'sci.crypt', 'rec.sport.baseball', 'rec.autos',\n",
       "       'alt.atheism', 'sci.crypt', 'rec.sport.hockey', 'comp.windows.x',\n",
       "       'rec.sport.hockey', 'rec.sport.hockey', 'comp.sys.mac.hardware',\n",
       "       'sci.med', 'sci.electronics', 'rec.sport.hockey',\n",
       "       'comp.os.ms-windows.misc', 'sci.electronics',\n",
       "       'soc.religion.christian', 'comp.os.ms-windows.misc', 'sci.crypt',\n",
       "       'soc.religion.christian', 'rec.motorcycles', 'comp.windows.x',\n",
       "       'rec.motorcycles', 'alt.atheism', 'talk.politics.misc',\n",
       "       'soc.religion.christian', 'sci.crypt', 'sci.space',\n",
       "       'comp.os.ms-windows.misc', 'rec.sport.baseball',\n",
       "       'talk.politics.mideast', 'sci.electronics', 'talk.politics.guns',\n",
       "       'sci.crypt', 'comp.sys.ibm.pc.hardware', 'sci.space',\n",
       "       'misc.forsale', 'talk.politics.guns', 'rec.sport.hockey',\n",
       "       'talk.politics.guns', 'talk.politics.misc', 'rec.sport.baseball',\n",
       "       'soc.religion.christian', 'comp.graphics', 'sci.space',\n",
       "       'sci.space', 'comp.sys.ibm.pc.hardware', 'alt.atheism',\n",
       "       'rec.sport.hockey', 'rec.motorcycles', 'comp.graphics',\n",
       "       'talk.politics.guns', 'talk.politics.misc', 'sci.electronics',\n",
       "       'talk.politics.misc', 'alt.atheism', 'rec.motorcycles',\n",
       "       'sci.space', 'soc.religion.christian', 'alt.atheism',\n",
       "       'rec.sport.baseball', 'talk.politics.mideast',\n",
       "       'comp.sys.mac.hardware', 'comp.graphics', 'sci.crypt',\n",
       "       'soc.religion.christian', 'talk.politics.mideast',\n",
       "       'comp.os.ms-windows.misc', 'comp.os.ms-windows.misc',\n",
       "       'talk.politics.misc', 'talk.politics.misc', 'misc.forsale',\n",
       "       'sci.electronics', 'soc.religion.christian', 'talk.politics.misc',\n",
       "       'rec.sport.baseball', 'rec.sport.baseball',\n",
       "       'comp.sys.mac.hardware', 'sci.med', 'comp.os.ms-windows.misc',\n",
       "       'rec.motorcycles', 'misc.forsale', 'comp.os.ms-windows.misc',\n",
       "       'rec.motorcycles', 'sci.crypt', 'rec.autos', 'misc.forsale',\n",
       "       'rec.sport.hockey', 'talk.politics.mideast', 'rec.motorcycles',\n",
       "       'sci.crypt', 'sci.crypt', 'rec.sport.baseball',\n",
       "       'comp.sys.ibm.pc.hardware', 'sci.crypt', 'talk.politics.misc',\n",
       "       'rec.sport.hockey', 'sci.crypt', 'alt.atheism', 'misc.forsale',\n",
       "       'soc.religion.christian', 'comp.sys.mac.hardware',\n",
       "       'rec.motorcycles', 'sci.crypt', 'comp.sys.ibm.pc.hardware',\n",
       "       'talk.religion.misc', 'talk.politics.misc', 'rec.autos',\n",
       "       'sci.crypt', 'rec.motorcycles', 'sci.crypt', 'alt.atheism',\n",
       "       'alt.atheism', 'talk.politics.guns', 'soc.religion.christian',\n",
       "       'sci.med', 'comp.sys.ibm.pc.hardware', 'talk.politics.misc',\n",
       "       'rec.motorcycles', 'soc.religion.christian', 'comp.windows.x',\n",
       "       'misc.forsale', 'comp.sys.mac.hardware', 'comp.os.ms-windows.misc',\n",
       "       'comp.graphics', 'talk.politics.guns', 'rec.sport.baseball',\n",
       "       'misc.forsale', 'sci.crypt', 'comp.sys.ibm.pc.hardware',\n",
       "       'misc.forsale', 'comp.windows.x', 'talk.politics.guns',\n",
       "       'sci.electronics', 'talk.politics.guns', 'misc.forsale',\n",
       "       'rec.motorcycles', 'comp.graphics', 'sci.crypt',\n",
       "       'talk.religion.misc', 'sci.space', 'talk.politics.mideast',\n",
       "       'sci.electronics', 'comp.os.ms-windows.misc',\n",
       "       'talk.politics.mideast', 'sci.crypt', 'misc.forsale',\n",
       "       'alt.atheism', 'talk.politics.misc', 'misc.forsale', 'sci.med',\n",
       "       'rec.autos', 'sci.med', 'rec.motorcycles', 'sci.crypt',\n",
       "       'sci.electronics', 'rec.autos', 'talk.politics.misc', 'sci.crypt',\n",
       "       'rec.motorcycles', 'rec.autos', 'alt.atheism',\n",
       "       'talk.politics.guns', 'sci.crypt', 'sci.electronics', 'rec.autos',\n",
       "       'comp.os.ms-windows.misc', 'sci.med', 'comp.os.ms-windows.misc',\n",
       "       'alt.atheism', 'sci.electronics', 'sci.crypt', 'rec.motorcycles',\n",
       "       'misc.forsale', 'soc.religion.christian', 'talk.politics.misc',\n",
       "       'comp.windows.x', 'comp.graphics', 'rec.autos', 'sci.crypt',\n",
       "       'comp.os.ms-windows.misc', 'sci.space', 'rec.motorcycles',\n",
       "       'rec.sport.hockey', 'alt.atheism', 'talk.politics.mideast',\n",
       "       'alt.atheism', 'comp.os.ms-windows.misc', 'comp.graphics',\n",
       "       'rec.autos', 'talk.politics.misc', 'sci.crypt',\n",
       "       'comp.sys.ibm.pc.hardware', 'sci.electronics', 'sci.electronics',\n",
       "       'rec.sport.baseball', 'comp.graphics', 'comp.windows.x',\n",
       "       'sci.crypt', 'talk.politics.misc', 'alt.atheism',\n",
       "       'comp.sys.mac.hardware', 'comp.graphics', 'talk.politics.guns',\n",
       "       'comp.sys.ibm.pc.hardware', 'alt.atheism',\n",
       "       'comp.os.ms-windows.misc', 'talk.politics.guns',\n",
       "       'talk.politics.guns', 'talk.politics.mideast',\n",
       "       'comp.sys.ibm.pc.hardware', 'rec.sport.hockey', 'rec.motorcycles',\n",
       "       'sci.med', 'comp.windows.x', 'rec.autos', 'soc.religion.christian',\n",
       "       'comp.windows.x', 'rec.sport.baseball', 'sci.med', 'sci.crypt',\n",
       "       'rec.motorcycles', 'soc.religion.christian', 'rec.motorcycles',\n",
       "       'sci.crypt', 'rec.sport.hockey', 'comp.sys.ibm.pc.hardware',\n",
       "       'sci.crypt', 'comp.sys.mac.hardware', 'sci.space',\n",
       "       'rec.sport.hockey', 'comp.windows.x', 'misc.forsale',\n",
       "       'talk.politics.misc', 'sci.electronics', 'alt.atheism',\n",
       "       'soc.religion.christian', 'alt.atheism', 'alt.atheism',\n",
       "       'rec.sport.hockey', 'soc.religion.christian', 'misc.forsale',\n",
       "       'comp.graphics', 'comp.os.ms-windows.misc', 'rec.sport.hockey',\n",
       "       'sci.med', 'alt.atheism', 'comp.sys.mac.hardware',\n",
       "       'talk.politics.guns', 'alt.atheism', 'alt.atheism', 'sci.crypt',\n",
       "       'comp.sys.mac.hardware', 'sci.space', 'comp.sys.ibm.pc.hardware',\n",
       "       'alt.atheism', 'sci.space', 'misc.forsale', 'sci.med', 'sci.med',\n",
       "       'alt.atheism', 'comp.os.ms-windows.misc', 'talk.politics.mideast',\n",
       "       'alt.atheism', 'comp.graphics', 'sci.crypt',\n",
       "       'soc.religion.christian', 'sci.space', 'talk.politics.guns',\n",
       "       'comp.windows.x', 'comp.sys.ibm.pc.hardware', 'alt.atheism',\n",
       "       'talk.politics.mideast', 'talk.politics.misc', 'misc.forsale',\n",
       "       'comp.graphics', 'alt.atheism', 'sci.crypt', 'sci.space',\n",
       "       'rec.autos', 'talk.religion.misc', 'sci.crypt', 'sci.med',\n",
       "       'rec.sport.baseball', 'alt.atheism', 'rec.sport.hockey',\n",
       "       'alt.atheism', 'sci.electronics', 'rec.sport.baseball',\n",
       "       'rec.sport.hockey', 'comp.graphics', 'soc.religion.christian',\n",
       "       'soc.religion.christian', 'talk.politics.misc',\n",
       "       'soc.religion.christian', 'alt.atheism', 'talk.politics.guns',\n",
       "       'comp.graphics', 'sci.crypt', 'rec.sport.baseball',\n",
       "       'comp.graphics', 'talk.religion.misc', 'misc.forsale',\n",
       "       'talk.politics.misc', 'rec.autos', 'comp.sys.ibm.pc.hardware',\n",
       "       'comp.windows.x', 'soc.religion.christian', 'comp.graphics',\n",
       "       'comp.sys.ibm.pc.hardware', 'talk.politics.mideast',\n",
       "       'comp.os.ms-windows.misc', 'comp.graphics', 'sci.crypt',\n",
       "       'talk.politics.mideast', 'sci.space', 'comp.os.ms-windows.misc',\n",
       "       'alt.atheism', 'rec.motorcycles', 'misc.forsale',\n",
       "       'talk.politics.guns', 'sci.electronics', 'alt.atheism',\n",
       "       'soc.religion.christian', 'rec.sport.baseball', 'comp.graphics',\n",
       "       'comp.sys.mac.hardware', 'sci.space', 'talk.politics.guns',\n",
       "       'comp.graphics', 'comp.windows.x', 'talk.politics.mideast',\n",
       "       'talk.politics.mideast', 'sci.med', 'sci.crypt',\n",
       "       'talk.politics.misc', 'comp.sys.ibm.pc.hardware', 'rec.autos',\n",
       "       'rec.sport.hockey', 'misc.forsale', 'comp.sys.mac.hardware',\n",
       "       'talk.politics.mideast', 'sci.crypt', 'sci.crypt',\n",
       "       'comp.os.ms-windows.misc', 'soc.religion.christian',\n",
       "       'talk.politics.mideast', 'alt.atheism', 'talk.politics.misc',\n",
       "       'soc.religion.christian', 'soc.religion.christian', 'sci.crypt',\n",
       "       'talk.politics.mideast', 'talk.politics.misc', 'sci.space',\n",
       "       'sci.space', 'sci.electronics', 'comp.sys.mac.hardware',\n",
       "       'talk.politics.guns', 'comp.graphics', 'rec.autos',\n",
       "       'comp.graphics', 'sci.space', 'misc.forsale',\n",
       "       'soc.religion.christian', 'talk.politics.mideast',\n",
       "       'talk.politics.guns', 'rec.motorcycles', 'rec.autos',\n",
       "       'comp.windows.x', 'rec.sport.baseball', 'sci.crypt',\n",
       "       'talk.politics.mideast', 'sci.electronics', 'comp.windows.x',\n",
       "       'rec.sport.baseball', 'comp.os.ms-windows.misc', 'rec.motorcycles',\n",
       "       'misc.forsale', 'comp.sys.mac.hardware', 'rec.sport.hockey',\n",
       "       'soc.religion.christian', 'sci.electronics', 'rec.sport.hockey',\n",
       "       'sci.electronics', 'comp.windows.x', 'rec.autos',\n",
       "       'talk.politics.mideast', 'rec.sport.baseball', 'alt.atheism',\n",
       "       'sci.space', 'comp.os.ms-windows.misc', 'alt.atheism',\n",
       "       'comp.graphics', 'talk.politics.mideast', 'misc.forsale',\n",
       "       'comp.sys.ibm.pc.hardware', 'misc.forsale', 'comp.windows.x',\n",
       "       'alt.atheism', 'talk.politics.misc', 'talk.politics.misc',\n",
       "       'sci.crypt', 'rec.sport.hockey', 'sci.med',\n",
       "       'comp.sys.ibm.pc.hardware', 'soc.religion.christian',\n",
       "       'sci.electronics', 'comp.windows.x', 'alt.atheism', 'alt.atheism',\n",
       "       'sci.crypt', 'rec.sport.baseball', 'comp.sys.ibm.pc.hardware',\n",
       "       'soc.religion.christian', 'comp.graphics', 'comp.graphics',\n",
       "       'sci.space', 'misc.forsale', 'sci.space', 'comp.windows.x',\n",
       "       'rec.sport.baseball', 'sci.space', 'rec.autos', 'sci.electronics',\n",
       "       'comp.graphics', 'sci.med', 'alt.atheism', 'sci.crypt',\n",
       "       'alt.atheism', 'talk.politics.misc', 'comp.graphics',\n",
       "       'talk.politics.mideast', 'soc.religion.christian',\n",
       "       'comp.sys.mac.hardware', 'comp.os.ms-windows.misc',\n",
       "       'comp.sys.ibm.pc.hardware', 'rec.motorcycles', 'rec.sport.hockey',\n",
       "       'comp.sys.mac.hardware', 'comp.os.ms-windows.misc',\n",
       "       'comp.os.ms-windows.misc', 'rec.sport.baseball',\n",
       "       'comp.os.ms-windows.misc', 'rec.sport.baseball',\n",
       "       'comp.sys.mac.hardware', 'sci.crypt', 'rec.motorcycles',\n",
       "       'sci.electronics', 'talk.politics.guns', 'comp.sys.mac.hardware',\n",
       "       'misc.forsale', 'comp.sys.mac.hardware', 'comp.os.ms-windows.misc',\n",
       "       'sci.space', 'talk.politics.misc', 'sci.space',\n",
       "       'comp.os.ms-windows.misc', 'comp.sys.mac.hardware', 'misc.forsale',\n",
       "       'sci.med', 'rec.autos', 'misc.forsale', 'rec.sport.baseball',\n",
       "       'sci.crypt', 'soc.religion.christian', 'comp.sys.mac.hardware',\n",
       "       'talk.politics.misc', 'sci.electronics', 'rec.autos',\n",
       "       'rec.motorcycles', 'talk.politics.misc', 'comp.sys.mac.hardware',\n",
       "       'talk.politics.guns', 'misc.forsale', 'comp.graphics',\n",
       "       'comp.windows.x', 'rec.sport.baseball', 'sci.med',\n",
       "       'talk.politics.guns', 'alt.atheism', 'alt.atheism',\n",
       "       'comp.graphics', 'alt.atheism', 'sci.crypt', 'comp.graphics',\n",
       "       'comp.os.ms-windows.misc', 'comp.windows.x', 'sci.space',\n",
       "       'talk.politics.mideast', 'talk.politics.guns', 'rec.motorcycles',\n",
       "       'comp.os.ms-windows.misc', 'soc.religion.christian',\n",
       "       'rec.sport.hockey', 'talk.politics.mideast',\n",
       "       'comp.sys.ibm.pc.hardware', 'talk.politics.guns', 'rec.autos',\n",
       "       'rec.autos', 'rec.autos', 'comp.graphics',\n",
       "       'comp.sys.ibm.pc.hardware', 'rec.motorcycles', 'sci.electronics',\n",
       "       'rec.sport.hockey', 'talk.religion.misc', 'alt.atheism',\n",
       "       'rec.autos', 'rec.sport.baseball', 'talk.politics.misc',\n",
       "       'soc.religion.christian', 'rec.sport.baseball',\n",
       "       'comp.sys.mac.hardware', 'talk.religion.misc', 'comp.graphics',\n",
       "       'sci.electronics', 'rec.motorcycles', 'sci.crypt', 'alt.atheism',\n",
       "       'alt.atheism', 'rec.autos', 'talk.politics.mideast',\n",
       "       'talk.politics.misc', 'talk.politics.mideast',\n",
       "       'comp.sys.ibm.pc.hardware', 'alt.atheism', 'sci.crypt',\n",
       "       'rec.sport.hockey', 'comp.graphics', 'misc.forsale',\n",
       "       'talk.politics.mideast', 'alt.atheism', 'comp.graphics',\n",
       "       'talk.politics.guns', 'comp.sys.mac.hardware', 'alt.atheism',\n",
       "       'rec.motorcycles', 'rec.motorcycles', 'misc.forsale', 'sci.crypt',\n",
       "       'alt.atheism', 'rec.motorcycles', 'rec.sport.hockey',\n",
       "       'alt.atheism', 'sci.electronics', 'misc.forsale', 'sci.med',\n",
       "       'sci.space', 'comp.sys.mac.hardware', 'rec.sport.hockey',\n",
       "       'comp.graphics', 'sci.electronics', 'talk.politics.misc',\n",
       "       'talk.politics.misc', 'sci.space', 'talk.politics.misc',\n",
       "       'sci.space', 'comp.sys.ibm.pc.hardware', 'rec.sport.baseball',\n",
       "       'comp.sys.mac.hardware', 'sci.med', 'talk.politics.guns',\n",
       "       'comp.graphics', 'comp.graphics', 'talk.politics.misc',\n",
       "       'rec.autos', 'rec.motorcycles', 'sci.med', 'talk.politics.mideast',\n",
       "       'comp.graphics', 'soc.religion.christian', 'alt.atheism',\n",
       "       'rec.sport.baseball', 'rec.sport.baseball'], dtype='<U24')"
      ]
     },
     "execution_count": 219,
     "metadata": {},
     "output_type": "execute_result"
    }
   ],
   "source": [
    "ytest_pred"
   ]
  },
  {
   "cell_type": "markdown",
   "id": "a3a5370e-44ce-45cc-a090-369d17abc085",
   "metadata": {},
   "source": [
    "## 3. Sentiment Analysis"
   ]
  },
  {
   "cell_type": "code",
   "execution_count": 20,
   "id": "7d1c0645-4ec5-4041-b33a-baffb7f838bd",
   "metadata": {},
   "outputs": [
    {
     "name": "stdout",
     "output_type": "stream",
     "text": [
      "Requirement already satisfied: nltk in c:\\users\\silviya\\anaconda3\\lib\\site-packages (3.9.1)\n",
      "Requirement already satisfied: click in c:\\users\\silviya\\anaconda3\\lib\\site-packages (from nltk) (8.1.7)\n",
      "Requirement already satisfied: joblib in c:\\users\\silviya\\anaconda3\\lib\\site-packages (from nltk) (1.4.2)\n",
      "Requirement already satisfied: regex>=2021.8.3 in c:\\users\\silviya\\anaconda3\\lib\\site-packages (from nltk) (2024.9.11)\n",
      "Requirement already satisfied: tqdm in c:\\users\\silviya\\anaconda3\\lib\\site-packages (from nltk) (4.66.5)\n",
      "Requirement already satisfied: colorama in c:\\users\\silviya\\anaconda3\\lib\\site-packages (from click->nltk) (0.4.6)\n"
     ]
    }
   ],
   "source": [
    "!pip install nltk"
   ]
  },
  {
   "cell_type": "code",
   "execution_count": 225,
   "id": "6a004058-357f-4072-9b20-3aaf95bf575e",
   "metadata": {},
   "outputs": [
    {
     "data": {
      "text/plain": [
       "True"
      ]
     },
     "execution_count": 225,
     "metadata": {},
     "output_type": "execute_result"
    }
   ],
   "source": [
    "nltk.download('vader_lexicon', quiet=True)"
   ]
  },
  {
   "cell_type": "code",
   "execution_count": 22,
   "id": "12bbd41a-dbde-4c2a-9bd7-ef2cae9575c9",
   "metadata": {},
   "outputs": [
    {
     "name": "stdout",
     "output_type": "stream",
     "text": [
      "Requirement already satisfied: vaderSentiment in c:\\users\\silviya\\anaconda3\\lib\\site-packages (3.3.2)\n",
      "Requirement already satisfied: requests in c:\\users\\silviya\\anaconda3\\lib\\site-packages (from vaderSentiment) (2.32.3)\n",
      "Requirement already satisfied: charset-normalizer<4,>=2 in c:\\users\\silviya\\anaconda3\\lib\\site-packages (from requests->vaderSentiment) (3.3.2)\n",
      "Requirement already satisfied: idna<4,>=2.5 in c:\\users\\silviya\\anaconda3\\lib\\site-packages (from requests->vaderSentiment) (3.7)\n",
      "Requirement already satisfied: urllib3<3,>=1.21.1 in c:\\users\\silviya\\anaconda3\\lib\\site-packages (from requests->vaderSentiment) (2.2.3)\n",
      "Requirement already satisfied: certifi>=2017.4.17 in c:\\users\\silviya\\anaconda3\\lib\\site-packages (from requests->vaderSentiment) (2024.8.30)\n"
     ]
    }
   ],
   "source": [
    "! pip install vaderSentiment"
   ]
  },
  {
   "cell_type": "markdown",
   "id": "c835db20-803c-4219-95d4-577503c815d9",
   "metadata": {},
   "source": [
    "## Performing sentiment analysis"
   ]
  },
  {
   "cell_type": "code",
   "execution_count": 242,
   "id": "b9144d03-cd1a-4b08-bc32-0c2e5680250a",
   "metadata": {},
   "outputs": [],
   "source": [
    "import nltk\n",
    "from nltk.sentiment.vader import SentimentIntensityAnalyzer\n",
    "import pandas as pd\n",
    "\n",
    "# Download VADER lexicon if not already downloaded\n",
    "nltk.download('vader_lexicon', quiet = True)\n",
    "\n",
    "# Initialize SentimentIntensityAnalyzer\n",
    "analyzer = SentimentIntensityAnalyzer()\n",
    "\n",
    "# Sentiment analysis function using VADER\n",
    "def get_sentiment(text):\n",
    "    sentiment_score = analyzer.polarity_scores(text)['compound']  # Get compound score\n",
    "\n",
    "    if sentiment_score > 0:\n",
    "        return 'positive'\n",
    "    elif sentiment_score < 0:\n",
    "        return 'negative'\n",
    "    else:\n",
    "        return 'neutral'\n",
    "\n",
    "# Apply sentiment analysis to the 'cleaned_data' column\n",
    "df['sentiment'] = df['cleaned_data'].apply(get_sentiment)"
   ]
  },
  {
   "cell_type": "code",
   "execution_count": 243,
   "id": "42311afb-6a00-4079-9679-91ef47c438df",
   "metadata": {},
   "outputs": [
    {
     "data": {
      "text/plain": [
       "{'neg': 0.204, 'neu': 0.645, 'pos': 0.151, 'compound': -0.9896}"
      ]
     },
     "execution_count": 243,
     "metadata": {},
     "output_type": "execute_result"
    }
   ],
   "source": [
    "polarity_scores = analyzer.polarity_scores(df.loc[0]['cleaned_data'])\n",
    "polarity_scores"
   ]
  },
  {
   "cell_type": "markdown",
   "id": "db43d33b-0e7a-4625-a7fc-7ebbcf05f04e",
   "metadata": {},
   "source": [
    "### Analyze the sentiments expressed in the blog posts and categorize them as positive, negative, or neutral"
   ]
  },
  {
   "cell_type": "code",
   "execution_count": 253,
   "id": "b9b2886c-c29e-4780-814e-a2064fb74b1e",
   "metadata": {},
   "outputs": [
    {
     "data": {
      "text/html": [
       "<div>\n",
       "<style scoped>\n",
       "    .dataframe tbody tr th:only-of-type {\n",
       "        vertical-align: middle;\n",
       "    }\n",
       "\n",
       "    .dataframe tbody tr th {\n",
       "        vertical-align: top;\n",
       "    }\n",
       "\n",
       "    .dataframe thead th {\n",
       "        text-align: right;\n",
       "    }\n",
       "</style>\n",
       "<table border=\"1\" class=\"dataframe\">\n",
       "  <thead>\n",
       "    <tr style=\"text-align: right;\">\n",
       "      <th></th>\n",
       "      <th>cleaned_data</th>\n",
       "      <th>sentiment</th>\n",
       "    </tr>\n",
       "  </thead>\n",
       "  <tbody>\n",
       "    <tr>\n",
       "      <th>0</th>\n",
       "      <td>path cantaloupesrvcscmuedumagnesiumclubcccmued...</td>\n",
       "      <td>negative</td>\n",
       "    </tr>\n",
       "    <tr>\n",
       "      <th>1</th>\n",
       "      <td>newsgroups altatheism path cantaloupesrvcscmue...</td>\n",
       "      <td>positive</td>\n",
       "    </tr>\n",
       "    <tr>\n",
       "      <th>2</th>\n",
       "      <td>path cantaloupesrvcscmuedudasnewsharvardedunoc...</td>\n",
       "      <td>negative</td>\n",
       "    </tr>\n",
       "    <tr>\n",
       "      <th>3</th>\n",
       "      <td>path cantaloupesrvcscmuedumagnesiumclubcccmued...</td>\n",
       "      <td>negative</td>\n",
       "    </tr>\n",
       "    <tr>\n",
       "      <th>4</th>\n",
       "      <td>xref cantaloupesrvcscmuedu altatheism53485 tal...</td>\n",
       "      <td>positive</td>\n",
       "    </tr>\n",
       "    <tr>\n",
       "      <th>...</th>\n",
       "      <td>...</td>\n",
       "      <td>...</td>\n",
       "    </tr>\n",
       "    <tr>\n",
       "      <th>1995</th>\n",
       "      <td>xref cantaloupesrvcscmuedu talkabortion120945 ...</td>\n",
       "      <td>positive</td>\n",
       "    </tr>\n",
       "    <tr>\n",
       "      <th>1996</th>\n",
       "      <td>xref cantaloupesrvcscmuedu talkreligionmisc837...</td>\n",
       "      <td>positive</td>\n",
       "    </tr>\n",
       "    <tr>\n",
       "      <th>1997</th>\n",
       "      <td>xref cantaloupesrvcscmuedu talkorigins41030 ta...</td>\n",
       "      <td>positive</td>\n",
       "    </tr>\n",
       "    <tr>\n",
       "      <th>1998</th>\n",
       "      <td>xref cantaloupesrvcscmuedu talkreligionmisc836...</td>\n",
       "      <td>positive</td>\n",
       "    </tr>\n",
       "    <tr>\n",
       "      <th>1999</th>\n",
       "      <td>xref cantaloupesrvcscmuedu sciskeptic43561 tal...</td>\n",
       "      <td>negative</td>\n",
       "    </tr>\n",
       "  </tbody>\n",
       "</table>\n",
       "<p>2000 rows × 2 columns</p>\n",
       "</div>"
      ],
      "text/plain": [
       "                                           cleaned_data sentiment\n",
       "0     path cantaloupesrvcscmuedumagnesiumclubcccmued...  negative\n",
       "1     newsgroups altatheism path cantaloupesrvcscmue...  positive\n",
       "2     path cantaloupesrvcscmuedudasnewsharvardedunoc...  negative\n",
       "3     path cantaloupesrvcscmuedumagnesiumclubcccmued...  negative\n",
       "4     xref cantaloupesrvcscmuedu altatheism53485 tal...  positive\n",
       "...                                                 ...       ...\n",
       "1995  xref cantaloupesrvcscmuedu talkabortion120945 ...  positive\n",
       "1996  xref cantaloupesrvcscmuedu talkreligionmisc837...  positive\n",
       "1997  xref cantaloupesrvcscmuedu talkorigins41030 ta...  positive\n",
       "1998  xref cantaloupesrvcscmuedu talkreligionmisc836...  positive\n",
       "1999  xref cantaloupesrvcscmuedu sciskeptic43561 tal...  negative\n",
       "\n",
       "[2000 rows x 2 columns]"
      ]
     },
     "execution_count": 253,
     "metadata": {},
     "output_type": "execute_result"
    }
   ],
   "source": [
    "df[['cleaned_data', 'sentiment']]"
   ]
  },
  {
   "cell_type": "markdown",
   "id": "f94b4dd6-c457-4a84-a372-4cd16ef55de6",
   "metadata": {},
   "source": [
    "### Examine the distribution of sentiments across different categories "
   ]
  },
  {
   "cell_type": "code",
   "execution_count": 26,
   "id": "df263a61-9ef0-447d-87fb-6f66037d155d",
   "metadata": {},
   "outputs": [
    {
     "name": "stdout",
     "output_type": "stream",
     "text": [
      "sentiment                 negative  neutral  positive\n",
      "Labels                                               \n",
      "alt.atheism                   40.0      1.0      59.0\n",
      "comp.graphics                 10.0      2.0      88.0\n",
      "comp.os.ms-windows.misc       22.0      2.0      76.0\n",
      "comp.sys.ibm.pc.hardware      19.0      1.0      80.0\n",
      "comp.sys.mac.hardware         18.0      3.0      79.0\n",
      "comp.windows.x                21.0      2.0      77.0\n",
      "misc.forsale                   9.0      8.0      83.0\n",
      "rec.autos                     27.0      1.0      72.0\n",
      "rec.motorcycles               32.0      1.0      67.0\n",
      "rec.sport.baseball            25.0      1.0      74.0\n",
      "rec.sport.hockey              30.0      NaN      70.0\n",
      "sci.crypt                     23.0      NaN      77.0\n",
      "sci.electronics               13.0      3.0      84.0\n",
      "sci.med                       28.0      1.0      71.0\n",
      "sci.space                     29.0      3.0      68.0\n",
      "soc.religion.christian        28.0      NaN      72.0\n",
      "talk.politics.guns            65.0      3.0      32.0\n",
      "talk.politics.mideast         68.0      NaN      32.0\n",
      "talk.politics.misc            54.0      NaN      46.0\n",
      "talk.religion.misc            33.0      NaN      67.0\n"
     ]
    }
   ],
   "source": [
    "sentiment_distribution = df.groupby(['Labels', 'sentiment']).size().unstack()\n",
    "\n",
    "print(sentiment_distribution)"
   ]
  },
  {
   "cell_type": "code",
   "execution_count": null,
   "id": "a6cde4fa-fbe5-431e-b2bf-f68297373a22",
   "metadata": {},
   "outputs": [],
   "source": []
  },
  {
   "cell_type": "markdown",
   "id": "91576d31-ae67-401e-800f-ef0c34e18cb8",
   "metadata": {},
   "source": [
    "## 4. Evaluation"
   ]
  },
  {
   "cell_type": "markdown",
   "id": "ae08a863-f158-41d9-ace7-cdb2a6b9a286",
   "metadata": {},
   "source": [
    "### Evaluate the performance of your Naive Bayes classifier using metrics such as accuracy, precision, recall, and F1-score."
   ]
  },
  {
   "cell_type": "markdown",
   "id": "380bf2a8-0ab8-4779-9eef-e55fe2df14fa",
   "metadata": {},
   "source": [
    "#### Predicted Training Data"
   ]
  },
  {
   "cell_type": "code",
   "execution_count": 28,
   "id": "25f95f3e-cae0-4439-9834-49d2acadefc6",
   "metadata": {},
   "outputs": [
    {
     "name": "stdout",
     "output_type": "stream",
     "text": [
      "Accuracy: 0.9914285714285714\n",
      "Classification Report:\n",
      "                          precision    recall  f1-score   support\n",
      "\n",
      "             alt.atheism       0.92      1.00      0.96        76\n",
      "           comp.graphics       1.00      1.00      1.00        72\n",
      " comp.os.ms-windows.misc       1.00      1.00      1.00        67\n",
      "comp.sys.ibm.pc.hardware       1.00      1.00      1.00        64\n",
      "   comp.sys.mac.hardware       1.00      1.00      1.00        64\n",
      "          comp.windows.x       1.00      1.00      1.00        64\n",
      "            misc.forsale       1.00      1.00      1.00        76\n",
      "               rec.autos       1.00      1.00      1.00        69\n",
      "         rec.motorcycles       1.00      1.00      1.00        78\n",
      "      rec.sport.baseball       1.00      1.00      1.00        68\n",
      "        rec.sport.hockey       1.00      1.00      1.00        75\n",
      "               sci.crypt       1.00      1.00      1.00        76\n",
      "         sci.electronics       1.00      1.00      1.00        73\n",
      "                 sci.med       1.00      1.00      1.00        70\n",
      "               sci.space       1.00      1.00      1.00        68\n",
      "  soc.religion.christian       0.97      1.00      0.99        70\n",
      "      talk.politics.guns       0.98      1.00      0.99        64\n",
      "   talk.politics.mideast       1.00      1.00      1.00        72\n",
      "      talk.politics.misc       0.97      1.00      0.99        72\n",
      "      talk.religion.misc       1.00      0.81      0.89        62\n",
      "\n",
      "                accuracy                           0.99      1400\n",
      "               macro avg       0.99      0.99      0.99      1400\n",
      "            weighted avg       0.99      0.99      0.99      1400\n",
      "\n"
     ]
    }
   ],
   "source": [
    "accuracy = accuracy_score(y_train, ytrain_predict)\n",
    "report = classification_report(y_train, ytrain_predict)\n",
    "\n",
    "print(f\"Accuracy: {accuracy}\")\n",
    "print(f\"Classification Report:\\n{report}\")"
   ]
  },
  {
   "cell_type": "markdown",
   "id": "8b9ad62f-0a27-490b-a277-3a32b47d9e65",
   "metadata": {},
   "source": [
    "#### Predicted Testing Data"
   ]
  },
  {
   "cell_type": "code",
   "execution_count": 29,
   "id": "0ba6c1ba-e744-4798-871f-7d4de6b7016e",
   "metadata": {},
   "outputs": [
    {
     "name": "stdout",
     "output_type": "stream",
     "text": [
      "Accuracy: 0.7566666666666667\n",
      "Classification Report:\n",
      "                          precision    recall  f1-score   support\n",
      "\n",
      "             alt.atheism       0.40      0.96      0.57        24\n",
      "           comp.graphics       0.61      0.82      0.70        28\n",
      " comp.os.ms-windows.misc       0.90      0.82      0.86        33\n",
      "comp.sys.ibm.pc.hardware       0.84      0.58      0.69        36\n",
      "   comp.sys.mac.hardware       0.96      0.67      0.79        36\n",
      "          comp.windows.x       1.00      0.56      0.71        36\n",
      "            misc.forsale       0.62      0.83      0.71        24\n",
      "               rec.autos       0.96      0.81      0.88        31\n",
      "         rec.motorcycles       0.66      0.95      0.78        22\n",
      "      rec.sport.baseball       0.97      0.91      0.94        32\n",
      "        rec.sport.hockey       0.89      0.96      0.92        25\n",
      "               sci.crypt       0.48      1.00      0.65        24\n",
      "         sci.electronics       0.66      0.70      0.68        27\n",
      "                 sci.med       0.95      0.70      0.81        30\n",
      "               sci.space       1.00      0.84      0.92        32\n",
      "  soc.religion.christian       0.88      0.97      0.92        30\n",
      "      talk.politics.guns       0.93      0.69      0.79        36\n",
      "   talk.politics.mideast       0.90      0.93      0.91        28\n",
      "      talk.politics.misc       0.60      0.75      0.67        28\n",
      "      talk.religion.misc       0.83      0.13      0.23        38\n",
      "\n",
      "                accuracy                           0.76       600\n",
      "               macro avg       0.80      0.78      0.76       600\n",
      "            weighted avg       0.82      0.76      0.75       600\n",
      "\n"
     ]
    }
   ],
   "source": [
    "accuracy = accuracy_score(y_test, y_pred)\n",
    "report = classification_report(y_test, y_pred)\n",
    "\n",
    "print(f\"Accuracy: {accuracy}\")\n",
    "print(f\"Classification Report:\\n{report}\")"
   ]
  },
  {
   "cell_type": "markdown",
   "id": "3234018e-93ff-4e87-a7c0-d05d7a495924",
   "metadata": {},
   "source": [
    "### Model Performance:\n",
    "#### Training Accuracy: 99.14% (Very high, suggesting good learning from the training data).\n",
    "#### Test Accuracy: 75.67% (Lower, indicating possible overfitting to the training data).\n",
    "### Challenges:\n",
    "#### Overfitting: The model performs well on the training data but not as well on unseen test data.\n",
    "#### Class Imbalance: Some categories are underrepresented, causing misclassification.\n",
    "### Sentiment Analysis:\n",
    "#### Sentiment Distribution: Most categories have a positive sentiment, followed by negative and neutral.\n",
    "### Insights:\n",
    "#### Positive Sentiment: Common in technical topics (e.g., comp.graphics, sci.crypt).\n",
    "#### Negative Sentiment: Found in sensitive topics like alt.atheism and talk.politics.guns.\n"
   ]
  },
  {
   "cell_type": "markdown",
   "id": "10c405ba-b4dc-40c7-b254-27f4ef514659",
   "metadata": {},
   "source": [
    "### Summary Highlights:\n",
    "#### -> The model works well on training data but struggles with generalization to new data.\n",
    "#### ->Sentiment analysis shows that the content of the blog posts influences sentiment distribution, with technical content being mostly\n",
    "   ####   positive and political/religious content being more mixed."
   ]
  },
  {
   "cell_type": "code",
   "execution_count": null,
   "id": "372b3942-fc5e-45dc-9071-f4406b21815a",
   "metadata": {},
   "outputs": [],
   "source": []
  }
 ],
 "metadata": {
  "kernelspec": {
   "display_name": "Python [conda env:base] *",
   "language": "python",
   "name": "conda-base-py"
  },
  "language_info": {
   "codemirror_mode": {
    "name": "ipython",
    "version": 3
   },
   "file_extension": ".py",
   "mimetype": "text/x-python",
   "name": "python",
   "nbconvert_exporter": "python",
   "pygments_lexer": "ipython3",
   "version": "3.12.7"
  }
 },
 "nbformat": 4,
 "nbformat_minor": 5
}
