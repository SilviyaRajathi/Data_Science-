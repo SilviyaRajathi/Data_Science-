{
 "cells": [
  {
   "cell_type": "markdown",
   "id": "257a842b-d126-494f-8c85-be221d4df817",
   "metadata": {},
   "source": [
    "### Association between Device Type and Customer Satisfaction"
   ]
  },
  {
   "cell_type": "markdown",
   "id": "64e95d6f-de9f-441c-9711-14a734c54714",
   "metadata": {},
   "source": [
    "#### 1. State the Hypotheses:"
   ]
  },
  {
   "cell_type": "markdown",
   "id": "b5379e1c-fe84-4775-acde-8ac20d9af46e",
   "metadata": {},
   "source": [
    "\n",
    "\n",
    "\n",
    "\n",
    "\n",
    "\n",
    "\n",
    "\n",
    "\n",
    "\n",
    "\n",
    "\n",
    "\n",
    "\n",
    "\n",
    "\n",
    "\n",
    "\n",
    "\n",
    "\n",
    "\n",
    "\n",
    "\n",
    "\n",
    "\n",
    "\n",
    "\n",
    "\n",
    "\n",
    "\n",
    "\n",
    "\n",
    "\n",
    "\n",
    "\n",
    "\n",
    "\n",
    "\n",
    "\n",
    "\n",
    "\n",
    "\n",
    "\n",
    "\n",
    "\n",
    "\n",
    "\n",
    "\n",
    "\n",
    "\n",
    "\n",
    "\n",
    "\n",
    "\n",
    "\n",
    "\n",
    "\n",
    "\n",
    "\n",
    "\n",
    "\n",
    "\n",
    "\n",
    "\n",
    "\n",
    "\n",
    "\n",
    "\n",
    "\n",
    "\n",
    "\n",
    "\n",
    "\n",
    "\n",
    "\n",
    "\n",
    "\n",
    "\n",
    "\n",
    "\n",
    "\n",
    "\n",
    "\n",
    "\n",
    "\n",
    "\n",
    "\n",
    "\n",
    "\n",
    "\n",
    "\n",
    "\n",
    "\n",
    "\n",
    "\n",
    "\n",
    "\n",
    "\n",
    "\n",
    "\n",
    "\n",
    "\n",
    "\n",
    "\n",
    "\n",
    "\n",
    "\n",
    "\n",
    "\n",
    "\n",
    "\n",
    "\n",
    "\n",
    "\n",
    "\n",
    "\n",
    "\n",
    "\n",
    "\n",
    "\n",
    "\n",
    "\n",
    "\n",
    "\n",
    "\n",
    "\n",
    "\n",
    "\n",
    "\n",
    "\n",
    "\n",
    "\n",
    "\n",
    "\n",
    "\n",
    "\n",
    "\n",
    "\n",
    "\n",
    "\n",
    "\n",
    "\n",
    "\n",
    "\n",
    "\n",
    "\n",
    "\n",
    "\n",
    "\n",
    "\n",
    "\n",
    "\n",
    "\n",
    "\n",
    "\n",
    "\n",
    "\n",
    "\n",
    "\n",
    "\n",
    "\n",
    "\n",
    "\n",
    "\n",
    "\n",
    "\n",
    "\n",
    "\n",
    "\n",
    "##### Null Hypothesis (H₀): There is no significant association between the type of device (Smart Thermostat or Smart Light) and customer satisfaction level. The two variables are independent.\n",
    "\n",
    "##### Alternative Hypothesis (H₁): There is a significant association between the type of device and customer satisfaction level. The two variables are not independent."
   ]
  },
  {
   "cell_type": "code",
   "execution_count": 17,
   "id": "7b69cc6f-00f0-49d2-a746-696e4f741759",
   "metadata": {},
   "outputs": [],
   "source": [
    "import numpy as np\n",
    "from scipy import stats"
   ]
  },
  {
   "cell_type": "code",
   "execution_count": 48,
   "id": "9f7e5647-3d16-48db-9a0d-e9971a8cf3c0",
   "metadata": {},
   "outputs": [],
   "source": [
    "# Given data\n",
    "observed = np.array([\n",
    "    [50, 70], \n",
    "    [80, 100],\n",
    "    [60, 90], \n",
    "    [30, 50], \n",
    "    [20, 50]   \n",
    "])"
   ]
  },
  {
   "cell_type": "code",
   "execution_count": 84,
   "id": "813883d6-810e-457e-b6ef-c6bb38e545d7",
   "metadata": {},
   "outputs": [],
   "source": [
    "# calculate the expected values\n",
    "row_totals = observed.sum(axis = 1)\n",
    "column_totals = observed.sum(axis = 0)\n",
    "grand_total = observed.sum()\n",
    "expected = np.outer(rows_total, columns_total)/grand_total"
   ]
  },
  {
   "cell_type": "markdown",
   "id": "1ec4eebb-a7e7-46b6-bb19-26fc5f1f6d8a",
   "metadata": {},
   "source": [
    "#### 2. Compute the Chi-Square Statistic:"
   ]
  },
  {
   "cell_type": "code",
   "execution_count": 87,
   "id": "26e0f9af-5e23-4d95-aac7-d0ca7bce3def",
   "metadata": {},
   "outputs": [],
   "source": [
    "chi_squ_stat = ((observed - expected)**2 /expected).sum()"
   ]
  },
  {
   "cell_type": "code",
   "execution_count": 89,
   "id": "ddc0df62-1e75-424b-8958-04886b840fba",
   "metadata": {},
   "outputs": [],
   "source": [
    "# Degrees of Freedom (df)\n",
    "df = (len(row_totals) - 1) * (len(column_totals) - 1)"
   ]
  },
  {
   "cell_type": "markdown",
   "id": "8e6a6f49-5cd6-4692-ba5f-f615a0af4649",
   "metadata": {},
   "source": [
    "#### 3. Determine the Critical Value:"
   ]
  },
  {
   "cell_type": "code",
   "execution_count": 91,
   "id": "dfa36642-5050-4996-b527-d5ecaf361dfd",
   "metadata": {},
   "outputs": [],
   "source": [
    "alpha = 0.05  # Significance level\n",
    "critical_value = stats.chi2.ppf(1 - alpha, df)"
   ]
  },
  {
   "cell_type": "code",
   "execution_count": 98,
   "id": "9151d807-db70-4af8-8ff8-4c192901e214",
   "metadata": {},
   "outputs": [
    {
     "name": "stdout",
     "output_type": "stream",
     "text": [
      "Observed Frequencies:\n",
      "[[ 50  70]\n",
      " [ 80 100]\n",
      " [ 60  90]\n",
      " [ 30  50]\n",
      " [ 20  50]]\n",
      "Expected Frequencies:\n",
      "[[ 48.  72.]\n",
      " [ 72. 108.]\n",
      " [ 60.  90.]\n",
      " [ 32.  48.]\n",
      " [ 28.  42.]]\n",
      "Chi-Square Statistic: 5.6382\n",
      "Critical Value for df=4 and alpha=0.05: 9.4877\n"
     ]
    }
   ],
   "source": [
    "print(f\"Observed Frequencies:\\n{observed}\")\n",
    "print(f\"Expected Frequencies:\\n{expected}\")\n",
    "print(f\"Chi-Square Statistic: {chi_squ_stat:.4f}\")\n",
    "print(f\"Critical Value for df={df} and alpha={alpha}: {critical_value:.4f}\")"
   ]
  },
  {
   "cell_type": "markdown",
   "id": "9741a8dd-9c66-4c0c-a3dd-73d9ef5d84e3",
   "metadata": {},
   "source": [
    "#### 4. Make a Decision:"
   ]
  },
  {
   "cell_type": "code",
   "execution_count": 102,
   "id": "0bbce6d1-da2a-4e5f-ad88-fa9163eabefa",
   "metadata": {},
   "outputs": [
    {
     "name": "stdout",
     "output_type": "stream",
     "text": [
      "Fail to reject the null hypothesis. There is no significant association between device type and customer satisfaction.\n"
     ]
    }
   ],
   "source": [
    "if chi_squ_stat > critical_value:\n",
    "    print(\"Reject the null hypothesis. There is a significant association between device type and customer satisfaction.\")\n",
    "else:\n",
    "    print(\"Fail to reject the null hypothesis. There is no significant association between device type and customer satisfaction.\")"
   ]
  },
  {
   "cell_type": "markdown",
   "id": "2f4abb99-9c10-4cf8-a98d-8ec90502ddb3",
   "metadata": {},
   "source": [
    "#### Fail to reject the null hypothesis. There is no significant association between device type and customer satisfaction."
   ]
  },
  {
   "cell_type": "code",
   "execution_count": null,
   "id": "25da85d2-51a0-4c24-af3e-a3978e77564c",
   "metadata": {},
   "outputs": [],
   "source": []
  }
 ],
 "metadata": {
  "kernelspec": {
   "display_name": "Python [conda env:base] *",
   "language": "python",
   "name": "conda-base-py"
  },
  "language_info": {
   "codemirror_mode": {
    "name": "ipython",
    "version": 3
   },
   "file_extension": ".py",
   "mimetype": "text/x-python",
   "name": "python",
   "nbconvert_exporter": "python",
   "pygments_lexer": "ipython3",
   "version": "3.12.7"
  }
 },
 "nbformat": 4,
 "nbformat_minor": 5
}
