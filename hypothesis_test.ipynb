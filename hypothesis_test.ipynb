{
 "cells": [
  {
   "cell_type": "markdown",
   "id": "5c52397d-dabc-43e5-9981-2955c4e8b063",
   "metadata": {},
   "source": [
    "### HYPOTHESIS TESTING"
   ]
  },
  {
   "cell_type": "markdown",
   "id": "77e0af84-1e02-404d-95b0-8daf7fc48421",
   "metadata": {},
   "source": [
    "#### 1. State the Hypotheses statement:"
   ]
  },
  {
   "cell_type": "markdown",
   "id": "433a280c-92b5-48d1-853a-6e5ac3a247e7",
   "metadata": {},
   "source": [
    "#### Null Hypothesis (𝐻0): The mean weekly cost follows the model (𝜇 = 4000)\n",
    "#### Alternative Hypothesis (𝐻1): The mean weekly cost is greater than the model (μ > 4000)"
   ]
  },
  {
   "cell_type": "code",
   "execution_count": 14,
   "id": "7b7a53ad-a9be-4cd1-958f-f981c96f0981",
   "metadata": {},
   "outputs": [],
   "source": [
    "import numpy as np\n",
    "from scipy import stats as st"
   ]
  },
  {
   "cell_type": "code",
   "execution_count": 16,
   "id": "0e6fd08f-7773-4501-8f36-a705bb67063f",
   "metadata": {},
   "outputs": [],
   "source": [
    "n = 25    # sample size\n",
    "sample_mean = 3050    # sample mean weekly cost\n",
    "theoretical_mean = 1000 + 5 * 600    # Theoretical mean weekly cost (W = $1000 + $5X for X = 600 units)\n",
    "std_dev = 5 * 25 # Standard deviation (σ = 5 * 25 units)\n",
    "alpha = 0.05\n"
   ]
  },
  {
   "cell_type": "code",
   "execution_count": 39,
   "id": "fd99261c-71e1-426c-a61d-708750ec3041",
   "metadata": {},
   "outputs": [],
   "source": [
    "# State the hypotheses\n",
    "H0 = \"The mean weekly cost follows the model (µ = 4000).\"\n",
    "H1 = \"The mean weekly cost is greater than the model (µ > 4000).\""
   ]
  },
  {
   "cell_type": "markdown",
   "id": "4bcf85ab-d418-45a8-81eb-a07757809b16",
   "metadata": {},
   "source": [
    "#### 2. Calculate the Test Statistic:"
   ]
  },
  {
   "cell_type": "code",
   "execution_count": 42,
   "id": "f1b5bbe1-d6c7-47c8-a5ad-2943bb1cfe3f",
   "metadata": {},
   "outputs": [],
   "source": [
    "z = (sample_mean - theoretical_mean) / (std_dev / np.sqrt(n))"
   ]
  },
  {
   "cell_type": "markdown",
   "id": "22fa7328-0f3f-44c4-8503-c344981a760d",
   "metadata": {},
   "source": [
    "#### 3. Determine the Critical Value:"
   ]
  },
  {
   "cell_type": "code",
   "execution_count": 45,
   "id": "1721c580-dd27-4982-83af-e3f98d9f20e5",
   "metadata": {},
   "outputs": [],
   "source": [
    "# Determine the critical value for one-tailed test\n",
    "critical_value = st.norm.ppf(1 - alpha)"
   ]
  },
  {
   "cell_type": "markdown",
   "id": "9c21c97d-63de-4131-a769-0206d255c8f5",
   "metadata": {},
   "source": [
    "#### 4. Make a Decision:"
   ]
  },
  {
   "cell_type": "code",
   "execution_count": 48,
   "id": "0db5021b-6c59-4f76-bd02-1b8d70fff869",
   "metadata": {},
   "outputs": [],
   "source": [
    "if z > critical_value:\n",
    "    decision = \"Reject the null hypothesis.\"\n",
    "    conclusion = \"There is strong evidence to support the claim that the weekly operating costs are higher than the model suggests.\"\n",
    "else:\n",
    "    decision = \"Fail to reject the null hypothesis.\"\n",
    "    conclusion = \"There is not enough evidence to support the claim that the weekly operating costs are higher than the model suggests.\"\n"
   ]
  },
  {
   "cell_type": "code",
   "execution_count": 55,
   "id": "4cd1b153-7270-4275-b6da-769313f7d85c",
   "metadata": {},
   "outputs": [
    {
     "name": "stdout",
     "output_type": "stream",
     "text": [
      "step 1: Hypotheses:\n",
      "Null Hypothesis (H₀): The mean weekly cost follows the model (µ = 4000).\n",
      "Alternative Hypothesis (H₁): The mean weekly cost is greater than the model (µ > 4000).\n",
      "\n",
      "Step 2: Test Statistic (Z): -38.0000\n",
      "\n",
      "Step 3: Critical Value: 1.6449\n",
      "\n",
      "Step 4: Decision: Fail to reject the null hypothesis.\n",
      "\n",
      "Step 5: Conclusion: There is not enough evidence to support the claim that the weekly operating costs are higher than the model suggests.\n"
     ]
    }
   ],
   "source": [
    "# Output results\n",
    "print(f\"step 1: Hypotheses:\")\n",
    "print(f\"Null Hypothesis (H₀): {H0}\")\n",
    "print(f\"Alternative Hypothesis (H₁): {H1}\\n\")\n",
    "\n",
    "print(f\"Step 2: Test Statistic (Z): {z:.4f}\\n\")\n",
    "print(f\"Step 3: Critical Value: {critical_value:.4f}\\n\")\n",
    "\n",
    "print(f\"Step 4: Decision: {decision}\\n\")\n",
    "print(f\"Step 5: Conclusion: {conclusion}\")"
   ]
  },
  {
   "cell_type": "code",
   "execution_count": null,
   "id": "a5491338-e0ed-4f8c-8187-ae619aa8f1b4",
   "metadata": {},
   "outputs": [],
   "source": []
  },
  {
   "cell_type": "code",
   "execution_count": null,
   "id": "5a45eb0a-68de-4905-a632-c2a31de92180",
   "metadata": {},
   "outputs": [],
   "source": []
  }
 ],
 "metadata": {
  "kernelspec": {
   "display_name": "Python [conda env:base] *",
   "language": "python",
   "name": "conda-base-py"
  },
  "language_info": {
   "codemirror_mode": {
    "name": "ipython",
    "version": 3
   },
   "file_extension": ".py",
   "mimetype": "text/x-python",
   "name": "python",
   "nbconvert_exporter": "python",
   "pygments_lexer": "ipython3",
   "version": "3.12.7"
  }
 },
 "nbformat": 4,
 "nbformat_minor": 5
}
